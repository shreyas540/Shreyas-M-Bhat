{
 "cells": [
  {
   "cell_type": "markdown",
   "metadata": {},
   "source": [
    "# INDIVIDUALS PROFILE DATASET "
   ]
  },
  {
   "cell_type": "markdown",
   "metadata": {},
   "source": [
    "### This dataset contains detailed profiles of 1,000 individuals, including their personal, geographic, and professional information. It features demographic details like names, email addresses, phone numbers, and dates of birth. Geographic data includes cities, countries, and precise latitude and longitude coordinates. Professional attributes such as job titles, employers, and salaries provide insight into career trends. Additionally, date and time fields add a temporal dimension to the data for dynamic analysis."
   ]
  },
  {
   "cell_type": "code",
   "execution_count": 130,
   "metadata": {},
   "outputs": [],
   "source": [
    "import pandas as pd\n",
    "import numpy as np\n",
    "import matplotlib.pyplot as plt\n",
    "import seaborn as sns\n",
    "import re\n",
    "df=pd.read_csv(\"C:\\\\Users\\\\LENOVO\\\\Downloads\\\\individuals_profile_dataset.csv\")\n"
   ]
  },
  {
   "cell_type": "markdown",
   "metadata": {},
   "source": [
    "# ANALYSING OF FIRST 20 DATA \n"
   ]
  },
  {
   "cell_type": "code",
   "execution_count": 131,
   "metadata": {},
   "outputs": [
    {
     "name": "stdout",
     "output_type": "stream",
     "text": [
      "    ID              Name                                  Email  \\\n",
      "0    1      Allison Hill                christopher86@gmail.com   \n",
      "1    2       Noah Rhodes                        cwood@gmail.com   \n",
      "2    3   Angie Henderson                    omarshall@yahoo.com   \n",
      "3    4     Daniel Wagner             karencontreras@barnett.biz   \n",
      "4    5   Cristian Santos  randallloretta@sheppard-mcdaniel.info   \n",
      "5    6   Connie Lawrence                     zevans@johnson.org   \n",
      "6    7   Abigail Shaffer                 averyshane@stanton.com   \n",
      "7    8        Gina Moore              rmiller@harris-carson.com   \n",
      "8    9   Gabrielle Davis                      renee11@yahoo.com   \n",
      "9   10        Ryan Munoz                    melissa87@gmail.com   \n",
      "10  11    Monica Herrera                 perryeddie@hotmail.com   \n",
      "11  12      Jamie Arnold             hartcraig@dillon-beard.biz   \n",
      "12  13      Lisa Hensley                      kpena@hotmail.com   \n",
      "13  14  Michele Williams             jacksonrichard@hotmail.com   \n",
      "14  15      Dylan Miller              fosternatasha@hotmail.com   \n",
      "15  16     Brian Ramirez           reesesamantha@smith-roth.com   \n",
      "16  17        Holly Wood                      megan13@gmail.com   \n",
      "17  18      Derek Zuniga                   uschroeder@yahoo.com   \n",
      "18  19      Lisa Jackson                   lopezjason@yahoo.com   \n",
      "19  20        Carla Gray                       lori82@gmail.com   \n",
      "\n",
      "             Phone Number                                            Address  \\\n",
      "0     +1-111-109-6179x817                722 Erica Trace, Kingfort, DE 70686   \n",
      "1      904.633.7861x37157  07681 Ian Heights Apt. 855, Camachohaven, AL 2...   \n",
      "2     (605)384-4446x30600  23622 Peter Camp Suite 968, Melanieview, TN 62387   \n",
      "3              2589552963  516 John Vista Suite 215, Lake Darrellchester,...   \n",
      "4                   -7509          0335 Tiffany Via, Patriciaburgh, IL 92620   \n",
      "5      (582)631-2819x6482               839 Keith Walk, Wesleybury, AL 40009   \n",
      "6      311-060-9209x81960                   PSC 6910, Box 5302, APO AE 48774   \n",
      "7   001-275-233-4383x6404                   PSC 6758, Box 6463, APO AE 88023   \n",
      "8            209-117-9112  48110 Smith Crest Suite 764, South William, OR...   \n",
      "9       421-175-3617x0617            7385 Garner Way, East Amyland, NV 65077   \n",
      "10   +1-136-657-2240x2990       39597 Matthew Green, South Melissa, AZ 88508   \n",
      "11           557-998-0284  36024 Graham Street Suite 467, Thomasstad, NV ...   \n",
      "12           390-808-8235   87156 Fischer Orchard, South Elizabeth, IL 13307   \n",
      "13           305-231-2447  80274 Mary Parkway Suite 726, East Annamouth, ...   \n",
      "14           158.477.6863   72884 Shane Meadow Suite 207, Vegaberg, CA 93091   \n",
      "15       234-619-9423x767  86762 Munoz Forge Suite 879, South Paulatown, ...   \n",
      "16    (945)919-6639x55172                   PSC 8693, Box 2055, APO AE 34541   \n",
      "17             8496498560    892 Gonzalez Manor, West Caitlynmouth, KS 01658   \n",
      "18           256-253-1355  7078 Porter Junction Suite 426, New Janettown,...   \n",
      "19          (510)505-3795          3627 Henry Squares, East Sherry, NJ 14039   \n",
      "\n",
      "   Date of Birth        Date      Time                  City  \\\n",
      "0     01-10-1956  12-09-2020   3:34:42            Steelefort   \n",
      "1     02-06-1978  04-02-2021  22:26:24         Martinezmouth   \n",
      "2     01-12-1970  28-05-2022   2:01:59          Lake Richard   \n",
      "3     05-06-2003  21-03-2021  22:01:00       South Keithbury   \n",
      "4     13-05-1961  12-07-2023   5:30:15       West Bryanburgh   \n",
      "5     20-03-1995  19-10-2024   0:34:21           Nicholaston   \n",
      "6     04-06-1955  20-09-2022  13:27:49       West Davidville   \n",
      "7     28-04-1973  30-12-2023  19:18:27           Flemingfort   \n",
      "8     04-01-1974  21-09-2022  18:42:19              Bellfort   \n",
      "9     26-10-1959  18-11-2021  14:00:10      South Danielberg   \n",
      "10    17-12-1996  15-08-2024   9:57:17         Johnstonmouth   \n",
      "11    22-12-1944  24-11-2022  14:13:35    South Russellmouth   \n",
      "12    08-07-1955  02-08-2020  19:10:38      South Morganport   \n",
      "13    20-07-1955  18-09-2021   2:30:44          Lake Stephen   \n",
      "14    05-09-1946  06-02-2024  19:29:03       Lake Kellyhaven   \n",
      "15    27-09-1985  11-03-2023   5:09:54  South Rebekahchester   \n",
      "16    03-12-1982  08-02-2022  21:42:11          Sandersburgh   \n",
      "17    29-03-1964  02-11-2022  23:19:32           Johnsonstad   \n",
      "18    06-08-1949  15-05-2021  14:59:27              Johnland   \n",
      "19    17-10-1976  02-06-2022  13:42:51            Bowmanbury   \n",
      "\n",
      "                   Country                         Company  \\\n",
      "0                 Colombia       Johnson, Harris and Cowan   \n",
      "1           Western Sahara                      Moreno PLC   \n",
      "2   Bosnia and Herzegovina          Cherry, Thomas and Lee   \n",
      "3                  Romania                     Elliott Inc   \n",
      "4                Venezuela                    Franklin PLC   \n",
      "5                  Reunion  Jackson, Marshall and Williams   \n",
      "6                 Thailand      Owens, Garcia and Schwartz   \n",
      "7                    Kenya                    Taylor-Smith   \n",
      "8                  Croatia      Keller, Walter and Douglas   \n",
      "9                    Korea                   Franco-Powell   \n",
      "10                 Croatia    Michael, Jennings and Wagner   \n",
      "11                Dominica       Jones, Henderson and Meza   \n",
      "12    Syrian Arab Republic                      Smith-Gray   \n",
      "13                   Nauru                Castaneda-Gordon   \n",
      "14                 Liberia       Brown, Meadows and Tucker   \n",
      "15                   Sudan                Collins and Sons   \n",
      "16          Norfolk Island                  Jackson-Powers   \n",
      "17   Palestinian Territory                  Morris-Hickman   \n",
      "18                   Aruba                   Gardner-Jones   \n",
      "19                  Belize                   Carlson-Moore   \n",
      "\n",
      "                            Job Title     Salary   Latitude   Longitude  \n",
      "0     Environmental education officer  106731.22 -35.787953  -16.973255  \n",
      "1                          Counsellor   33001.29 -44.569952  -43.088937  \n",
      "2   Environmental health practitioner   63003.52 -12.295127  -59.817369  \n",
      "3                           Barrister   56785.29 -41.230234  -59.422146  \n",
      "4         Information systems manager  118376.55 -78.690582  179.502465  \n",
      "5                       Ranger/warden  111203.94 -22.338839   56.849898  \n",
      "6          Regulatory affairs officer  137061.55 -25.513458  -55.527994  \n",
      "7                             Dentist   40432.66 -85.129756   22.799024  \n",
      "8                     Legal secretary   80630.62 -73.556055  165.801402  \n",
      "9                      Therapist, art   33575.67  17.185309  166.793540  \n",
      "10                 Personal assistant   56236.56 -25.822871 -160.138162  \n",
      "11                Call centre manager   90642.63 -72.800293  153.117914  \n",
      "12                Chemist, analytical   33184.32  64.123239 -146.747680  \n",
      "13                Medical illustrator   53860.52 -61.803969   94.926442  \n",
      "14                  Transport planner  107986.13 -80.019974   -3.214718  \n",
      "15           Local government officer   95392.98  25.316116   55.340928  \n",
      "16                    Event organiser   56452.87  61.318143    2.241167  \n",
      "17                    Event organiser  100711.88  35.985405  -60.425765  \n",
      "18                       Risk analyst  127131.65 -62.960470   71.172173  \n",
      "19            Horticulturist, amenity   30779.85 -23.898006  143.652745  \n"
     ]
    }
   ],
   "source": [
    "print(df.head(20))"
   ]
  },
  {
   "cell_type": "markdown",
   "metadata": {},
   "source": [
    "# ANALYSING OF LAST 20 DATA "
   ]
  },
  {
   "cell_type": "code",
   "execution_count": 132,
   "metadata": {},
   "outputs": [
    {
     "name": "stdout",
     "output_type": "stream",
     "text": [
      "       ID               Name                              Email  \\\n",
      "980   981      James Oconnor    jessicalowery@tate-gonzalez.com   \n",
      "981   982      Stacey Snyder                 matthew97@park.com   \n",
      "982   983      Joshua Garcia                 jjohnson@yahoo.com   \n",
      "983   984        Sean Curtis          lukejohnson@schroeder.biz   \n",
      "984   985        Carla Jones           brianparrish@hotmail.com   \n",
      "985   986   Elizabeth Flores                 johnny21@gmail.com   \n",
      "986   987     Angela Jackson      richard47@warren-caldwell.com   \n",
      "987   988     Nicholas Payne  davisrachel@richmond-phillips.com   \n",
      "988   989       Anna Wheeler                 iolson@hotmail.com   \n",
      "989   990      Karen Johnson                   sgomez@price.org   \n",
      "990   991     Carmen Preston               sharpbeth@morris.com   \n",
      "991   992       Brian Harris           peggypeck@lin-wilson.biz   \n",
      "992   993      Michael Bowen             mcneilsherry@gmail.com   \n",
      "993   994   Deborah Campbell             johnsonjulie@gmail.com   \n",
      "994   995  Anthony Armstrong          carolynrobinson@gmail.com   \n",
      "995   996      Brittany Ward        woodmichael@mosley-shaw.com   \n",
      "996   997     Edward Stanley               wgutierrez@yahoo.com   \n",
      "997   998  Christina Johnson                 daniel27@yahoo.com   \n",
      "998   999       Edgar Miller             angelamartin@yahoo.com   \n",
      "999  1000  Elizabeth Sanders                megan64@hotmail.com   \n",
      "\n",
      "              Phone Number                                            Address  \\\n",
      "980   +1-485-076-6534x4604      2376 Williams Cliff, Douglaschester, IL 08026   \n",
      "981   +1-227-634-6019x1530  81372 Brittany Divide Apt. 093, Danielleberg, ...   \n",
      "982      (734)724-3586x176         501 Bradley Dale, Anthonychester, SD 88006   \n",
      "983                  -3021  90878 Donna Shoals Suite 767, North Stephaniem...   \n",
      "984     666.562.2419x76878      6948 Ryan Spur Apt. 943, Wagnerstad, VA 02650   \n",
      "985       947-712-9035x006  256 Ashley Turnpike Apt. 669, East Lindsay, FL...   \n",
      "986           848-974-2235       3468 Thomas Centers, Taylorborough, TX 89621   \n",
      "987       340-466-8212x156    6610 Garcia Hills Suite 180, Bergfurt, NY 72446   \n",
      "988       952-549-2064x411  244 Preston Throughway Apt. 951, Howellmouth, ...   \n",
      "989           973-881-8273  88331 Amy Crossing Suite 934, Fisherland, DC 8...   \n",
      "990             6343594882      7939 Christopher Spring, East Sarah, CA 51036   \n",
      "991  001-188-496-8066x4051  00239 Michael Forge Apt. 336, Lake Carl, AL 78311   \n",
      "992           021-254-3412        70231 Webb Bypass, East Cindytown, IA 13304   \n",
      "993           016.049.8603  5690 Holly Spurs Apt. 917, Meltonborough, WV 2...   \n",
      "994      218.600.3203x1978                          USNV Moreno, FPO AA 29168   \n",
      "995       001-990-114-0034  51547 Graham Crescent Apt. 708, Smithfort, ND ...   \n",
      "996      131.719.7860x1625                   PSC 4009, Box 3808, APO AP 26991   \n",
      "997  +1-908-419-4785x50113        32160 Nicholas Rapid, East Joseph, ND 31097   \n",
      "998       535.821.0728x878  76252 Nicole Corners Apt. 116, Elliottport, NC...   \n",
      "999  001-072-790-3716x1608  0116 Wagner Creek Suite 786, New Adrian, CT 44160   \n",
      "\n",
      "    Date of Birth        Date      Time                   City  \\\n",
      "980    10-11-1985  21-09-2022   6:40:29            Edwardsport   \n",
      "981    29-06-1947  30-04-2024  15:28:29          Lake Levibury   \n",
      "982    31-07-1953  23-08-2023  10:19:48        Lake Willieberg   \n",
      "983    01-01-1948  09-06-2020   0:36:34        West Andrewland   \n",
      "984    13-09-1999  11-02-2022  17:07:13       South Lindashire   \n",
      "985    25-02-1959  18-07-2022  11:23:26        East Brookeview   \n",
      "986    21-02-1989  05-12-2022   6:53:06             Port Haley   \n",
      "987    01-02-1979  16-03-2023  18:15:09             Brownburgh   \n",
      "988    01-01-1967  21-09-2021  15:03:10              Diazhaven   \n",
      "989    23-03-1962  18-01-2022  16:35:36     West Christinebury   \n",
      "990    29-06-1946  03-10-2021   4:45:53              Louisland   \n",
      "991    08-09-1973  06-08-2024  11:56:57             West Jason   \n",
      "992    19-12-1943  13-04-2021  15:26:20  Lake Christopherville   \n",
      "993    28-11-1947  28-01-2022   4:22:35            Williamstad   \n",
      "994    11-01-1982  23-07-2022  18:51:24              Ramosbury   \n",
      "995    30-09-1961  22-01-2023   4:13:56        Port Jefferyton   \n",
      "996    06-08-1995  06-03-2021   5:59:40         Lake Heidiland   \n",
      "997    02-01-1950  16-05-2022  18:54:31            Hillborough   \n",
      "998    18-03-1967  24-09-2022  14:19:11      South Michaeltown   \n",
      "999    19-09-1982  05-11-2023   1:04:53             Duartetown   \n",
      "\n",
      "                       Country                      Company  \\\n",
      "980                    Armenia                Harris-Valdez   \n",
      "981                      Sudan                  Jones Group   \n",
      "982                 Luxembourg                    Boyle PLC   \n",
      "983                   Pakistan                 Fox-Hamilton   \n",
      "984                 Cape Verde                   Gay-Decker   \n",
      "985                    Iceland              Carter and Sons   \n",
      "986                    Armenia                Golden-Larsen   \n",
      "987  Saint Pierre and Miquelon                  Dunn-Rogers   \n",
      "988   Central African Republic    Owens, Rowland and Cooper   \n",
      "989            Kyrgyz Republic             Stevens-Schaefer   \n",
      "990                    Germany     Aguilar, Hudson and Neal   \n",
      "991                    Lesotho     Olson, Molina and Becker   \n",
      "992               Saint Martin    Brooks, Hughes and Lester   \n",
      "993                  Macedonia              Walker and Sons   \n",
      "994                Netherlands    Curtis, Douglas and Singh   \n",
      "995                      Italy                   Garcia Ltd   \n",
      "996                     Zambia   Smith, Gilbert and Marquez   \n",
      "997                      Japan                  Shelton Ltd   \n",
      "998               Cook Islands                     Bell Inc   \n",
      "999                Isle of Man  Bishop, James and Contreras   \n",
      "\n",
      "                                             Job Title     Salary   Latitude  \\\n",
      "980      Programme researcher, broadcasting/film/video   41663.04  89.496193   \n",
      "981               International aid/development worker  136471.12  67.032280   \n",
      "982                    Administrator, local government   46279.69  30.739260   \n",
      "983                        Lecturer, further education   84437.25 -16.333647   \n",
      "984                        Passenger transport manager  110458.35   4.563692   \n",
      "985                                  Nurse, children's  119176.81 -38.945459   \n",
      "986                           Loss adjuster, chartered  143516.89  72.803259   \n",
      "987                                         IT trainer   80295.21 -72.983641   \n",
      "988  Scientist, clinical (histocompatibility and im...  119072.28  52.872521   \n",
      "989                             Therapist, nutritional   48542.75 -78.551260   \n",
      "990                                 Veterinary surgeon   79786.14 -42.694870   \n",
      "991                                    Arboriculturist   41882.60 -27.379796   \n",
      "992                             Occupational therapist   88721.64  55.249234   \n",
      "993                                         IT trainer   78973.91 -11.070301   \n",
      "994                                  Social researcher  144182.58  59.373115   \n",
      "995                          Occupational psychologist   33925.95  28.351760   \n",
      "996                           Therapeutic radiographer   74463.60  20.224845   \n",
      "997                         Research scientist (maths)   83205.97 -67.382012   \n",
      "998                         Contracting civil engineer  144066.62  81.530028   \n",
      "999                      Development worker, community  132654.02  -8.468502   \n",
      "\n",
      "      Longitude  \n",
      "980  -27.301724  \n",
      "981   -5.324258  \n",
      "982  -91.194296  \n",
      "983   -9.099805  \n",
      "984   -4.535321  \n",
      "985  -46.315602  \n",
      "986  127.189516  \n",
      "987   26.795769  \n",
      "988 -101.558937  \n",
      "989   -6.488031  \n",
      "990   13.887293  \n",
      "991   51.586444  \n",
      "992 -137.953695  \n",
      "993  -34.203826  \n",
      "994  -35.619256  \n",
      "995 -125.707156  \n",
      "996  -96.588474  \n",
      "997  176.032710  \n",
      "998  122.785819  \n",
      "999  111.022834  \n"
     ]
    }
   ],
   "source": [
    "print(df.tail(20))"
   ]
  },
  {
   "cell_type": "markdown",
   "metadata": {},
   "source": [
    "# CHECKING INFORMATION\n"
   ]
  },
  {
   "cell_type": "code",
   "execution_count": 133,
   "metadata": {},
   "outputs": [
    {
     "name": "stdout",
     "output_type": "stream",
     "text": [
      "<class 'pandas.core.frame.DataFrame'>\n",
      "RangeIndex: 1000 entries, 0 to 999\n",
      "Data columns (total 15 columns):\n",
      " #   Column         Non-Null Count  Dtype  \n",
      "---  ------         --------------  -----  \n",
      " 0   ID             1000 non-null   int64  \n",
      " 1   Name           1000 non-null   object \n",
      " 2   Email          1000 non-null   object \n",
      " 3   Phone Number   1000 non-null   object \n",
      " 4   Address        1000 non-null   object \n",
      " 5   Date of Birth  1000 non-null   object \n",
      " 6   Date           1000 non-null   object \n",
      " 7   Time           1000 non-null   object \n",
      " 8   City           1000 non-null   object \n",
      " 9   Country        1000 non-null   object \n",
      " 10  Company        1000 non-null   object \n",
      " 11  Job Title      1000 non-null   object \n",
      " 12  Salary         1000 non-null   float64\n",
      " 13  Latitude       1000 non-null   float64\n",
      " 14  Longitude      1000 non-null   float64\n",
      "dtypes: float64(3), int64(1), object(11)\n",
      "memory usage: 117.3+ KB\n",
      "None\n"
     ]
    }
   ],
   "source": [
    "print(df.info())"
   ]
  },
  {
   "cell_type": "markdown",
   "metadata": {},
   "source": [
    " # CHECKING FOR NULL VALUE "
   ]
  },
  {
   "cell_type": "code",
   "execution_count": 134,
   "metadata": {},
   "outputs": [
    {
     "data": {
      "text/html": [
       "<div>\n",
       "<style scoped>\n",
       "    .dataframe tbody tr th:only-of-type {\n",
       "        vertical-align: middle;\n",
       "    }\n",
       "\n",
       "    .dataframe tbody tr th {\n",
       "        vertical-align: top;\n",
       "    }\n",
       "\n",
       "    .dataframe thead th {\n",
       "        text-align: right;\n",
       "    }\n",
       "</style>\n",
       "<table border=\"1\" class=\"dataframe\">\n",
       "  <thead>\n",
       "    <tr style=\"text-align: right;\">\n",
       "      <th></th>\n",
       "      <th>ID</th>\n",
       "      <th>Name</th>\n",
       "      <th>Email</th>\n",
       "      <th>Phone Number</th>\n",
       "      <th>Address</th>\n",
       "      <th>Date of Birth</th>\n",
       "      <th>Date</th>\n",
       "      <th>Time</th>\n",
       "      <th>City</th>\n",
       "      <th>Country</th>\n",
       "      <th>Company</th>\n",
       "      <th>Job Title</th>\n",
       "      <th>Salary</th>\n",
       "      <th>Latitude</th>\n",
       "      <th>Longitude</th>\n",
       "    </tr>\n",
       "  </thead>\n",
       "  <tbody>\n",
       "    <tr>\n",
       "      <th>0</th>\n",
       "      <td>False</td>\n",
       "      <td>False</td>\n",
       "      <td>False</td>\n",
       "      <td>False</td>\n",
       "      <td>False</td>\n",
       "      <td>False</td>\n",
       "      <td>False</td>\n",
       "      <td>False</td>\n",
       "      <td>False</td>\n",
       "      <td>False</td>\n",
       "      <td>False</td>\n",
       "      <td>False</td>\n",
       "      <td>False</td>\n",
       "      <td>False</td>\n",
       "      <td>False</td>\n",
       "    </tr>\n",
       "    <tr>\n",
       "      <th>1</th>\n",
       "      <td>False</td>\n",
       "      <td>False</td>\n",
       "      <td>False</td>\n",
       "      <td>False</td>\n",
       "      <td>False</td>\n",
       "      <td>False</td>\n",
       "      <td>False</td>\n",
       "      <td>False</td>\n",
       "      <td>False</td>\n",
       "      <td>False</td>\n",
       "      <td>False</td>\n",
       "      <td>False</td>\n",
       "      <td>False</td>\n",
       "      <td>False</td>\n",
       "      <td>False</td>\n",
       "    </tr>\n",
       "    <tr>\n",
       "      <th>2</th>\n",
       "      <td>False</td>\n",
       "      <td>False</td>\n",
       "      <td>False</td>\n",
       "      <td>False</td>\n",
       "      <td>False</td>\n",
       "      <td>False</td>\n",
       "      <td>False</td>\n",
       "      <td>False</td>\n",
       "      <td>False</td>\n",
       "      <td>False</td>\n",
       "      <td>False</td>\n",
       "      <td>False</td>\n",
       "      <td>False</td>\n",
       "      <td>False</td>\n",
       "      <td>False</td>\n",
       "    </tr>\n",
       "    <tr>\n",
       "      <th>3</th>\n",
       "      <td>False</td>\n",
       "      <td>False</td>\n",
       "      <td>False</td>\n",
       "      <td>False</td>\n",
       "      <td>False</td>\n",
       "      <td>False</td>\n",
       "      <td>False</td>\n",
       "      <td>False</td>\n",
       "      <td>False</td>\n",
       "      <td>False</td>\n",
       "      <td>False</td>\n",
       "      <td>False</td>\n",
       "      <td>False</td>\n",
       "      <td>False</td>\n",
       "      <td>False</td>\n",
       "    </tr>\n",
       "    <tr>\n",
       "      <th>4</th>\n",
       "      <td>False</td>\n",
       "      <td>False</td>\n",
       "      <td>False</td>\n",
       "      <td>False</td>\n",
       "      <td>False</td>\n",
       "      <td>False</td>\n",
       "      <td>False</td>\n",
       "      <td>False</td>\n",
       "      <td>False</td>\n",
       "      <td>False</td>\n",
       "      <td>False</td>\n",
       "      <td>False</td>\n",
       "      <td>False</td>\n",
       "      <td>False</td>\n",
       "      <td>False</td>\n",
       "    </tr>\n",
       "    <tr>\n",
       "      <th>...</th>\n",
       "      <td>...</td>\n",
       "      <td>...</td>\n",
       "      <td>...</td>\n",
       "      <td>...</td>\n",
       "      <td>...</td>\n",
       "      <td>...</td>\n",
       "      <td>...</td>\n",
       "      <td>...</td>\n",
       "      <td>...</td>\n",
       "      <td>...</td>\n",
       "      <td>...</td>\n",
       "      <td>...</td>\n",
       "      <td>...</td>\n",
       "      <td>...</td>\n",
       "      <td>...</td>\n",
       "    </tr>\n",
       "    <tr>\n",
       "      <th>995</th>\n",
       "      <td>False</td>\n",
       "      <td>False</td>\n",
       "      <td>False</td>\n",
       "      <td>False</td>\n",
       "      <td>False</td>\n",
       "      <td>False</td>\n",
       "      <td>False</td>\n",
       "      <td>False</td>\n",
       "      <td>False</td>\n",
       "      <td>False</td>\n",
       "      <td>False</td>\n",
       "      <td>False</td>\n",
       "      <td>False</td>\n",
       "      <td>False</td>\n",
       "      <td>False</td>\n",
       "    </tr>\n",
       "    <tr>\n",
       "      <th>996</th>\n",
       "      <td>False</td>\n",
       "      <td>False</td>\n",
       "      <td>False</td>\n",
       "      <td>False</td>\n",
       "      <td>False</td>\n",
       "      <td>False</td>\n",
       "      <td>False</td>\n",
       "      <td>False</td>\n",
       "      <td>False</td>\n",
       "      <td>False</td>\n",
       "      <td>False</td>\n",
       "      <td>False</td>\n",
       "      <td>False</td>\n",
       "      <td>False</td>\n",
       "      <td>False</td>\n",
       "    </tr>\n",
       "    <tr>\n",
       "      <th>997</th>\n",
       "      <td>False</td>\n",
       "      <td>False</td>\n",
       "      <td>False</td>\n",
       "      <td>False</td>\n",
       "      <td>False</td>\n",
       "      <td>False</td>\n",
       "      <td>False</td>\n",
       "      <td>False</td>\n",
       "      <td>False</td>\n",
       "      <td>False</td>\n",
       "      <td>False</td>\n",
       "      <td>False</td>\n",
       "      <td>False</td>\n",
       "      <td>False</td>\n",
       "      <td>False</td>\n",
       "    </tr>\n",
       "    <tr>\n",
       "      <th>998</th>\n",
       "      <td>False</td>\n",
       "      <td>False</td>\n",
       "      <td>False</td>\n",
       "      <td>False</td>\n",
       "      <td>False</td>\n",
       "      <td>False</td>\n",
       "      <td>False</td>\n",
       "      <td>False</td>\n",
       "      <td>False</td>\n",
       "      <td>False</td>\n",
       "      <td>False</td>\n",
       "      <td>False</td>\n",
       "      <td>False</td>\n",
       "      <td>False</td>\n",
       "      <td>False</td>\n",
       "    </tr>\n",
       "    <tr>\n",
       "      <th>999</th>\n",
       "      <td>False</td>\n",
       "      <td>False</td>\n",
       "      <td>False</td>\n",
       "      <td>False</td>\n",
       "      <td>False</td>\n",
       "      <td>False</td>\n",
       "      <td>False</td>\n",
       "      <td>False</td>\n",
       "      <td>False</td>\n",
       "      <td>False</td>\n",
       "      <td>False</td>\n",
       "      <td>False</td>\n",
       "      <td>False</td>\n",
       "      <td>False</td>\n",
       "      <td>False</td>\n",
       "    </tr>\n",
       "  </tbody>\n",
       "</table>\n",
       "<p>1000 rows × 15 columns</p>\n",
       "</div>"
      ],
      "text/plain": [
       "        ID   Name  Email  Phone Number  Address  Date of Birth   Date   Time  \\\n",
       "0    False  False  False         False    False          False  False  False   \n",
       "1    False  False  False         False    False          False  False  False   \n",
       "2    False  False  False         False    False          False  False  False   \n",
       "3    False  False  False         False    False          False  False  False   \n",
       "4    False  False  False         False    False          False  False  False   \n",
       "..     ...    ...    ...           ...      ...            ...    ...    ...   \n",
       "995  False  False  False         False    False          False  False  False   \n",
       "996  False  False  False         False    False          False  False  False   \n",
       "997  False  False  False         False    False          False  False  False   \n",
       "998  False  False  False         False    False          False  False  False   \n",
       "999  False  False  False         False    False          False  False  False   \n",
       "\n",
       "      City  Country  Company  Job Title  Salary  Latitude  Longitude  \n",
       "0    False    False    False      False   False     False      False  \n",
       "1    False    False    False      False   False     False      False  \n",
       "2    False    False    False      False   False     False      False  \n",
       "3    False    False    False      False   False     False      False  \n",
       "4    False    False    False      False   False     False      False  \n",
       "..     ...      ...      ...        ...     ...       ...        ...  \n",
       "995  False    False    False      False   False     False      False  \n",
       "996  False    False    False      False   False     False      False  \n",
       "997  False    False    False      False   False     False      False  \n",
       "998  False    False    False      False   False     False      False  \n",
       "999  False    False    False      False   False     False      False  \n",
       "\n",
       "[1000 rows x 15 columns]"
      ]
     },
     "execution_count": 134,
     "metadata": {},
     "output_type": "execute_result"
    }
   ],
   "source": [
    "df.isna()"
   ]
  },
  {
   "cell_type": "markdown",
   "metadata": {},
   "source": [
    "# PLOTTING BOXPLOT"
   ]
  },
  {
   "cell_type": "code",
   "execution_count": 135,
   "metadata": {},
   "outputs": [
    {
     "data": {
      "image/png": "[encoded data removed]",
      "text/plain": [
       "<Figure size 800x400 with 1 Axes>"
      ]
     },
     "metadata": {},
     "output_type": "display_data"
    },
    {
     "data": {
      "image/png": "[encoded data removed]",
      "text/plain": [
       "<Figure size 800x400 with 1 Axes>"
      ]
     },
     "metadata": {},
     "output_type": "display_data"
    },
    {
     "data": {
      "image/png": "[encoded data removed]",
      "text/plain": [
       "<Figure size 800x400 with 1 Axes>"
      ]
     },
     "metadata": {},
     "output_type": "display_data"
    },
    {
     "data": {
      "image/png": "[encoded data removed]",
      "text/plain": [
       "<Figure size 800x400 with 1 Axes>"
      ]
     },
     "metadata": {},
     "output_type": "display_data"
    }
   ],
   "source": [
    "numeric_cols = df.select_dtypes(include=['number']).columns\n",
    "for col in numeric_cols:\n",
    "    plt.figure(figsize=(8,4))\n",
    "    sns.boxplot(data=df, x=col, color='g')\n",
    "    plt.show()"
   ]
  },
  {
   "cell_type": "markdown",
   "metadata": {},
   "source": [
    "# CLEANING EMPTY CELLS"
   ]
  },
  {
   "cell_type": "code",
   "execution_count": 136,
   "metadata": {},
   "outputs": [
    {
     "name": "stdout",
     "output_type": "stream",
     "text": [
      "None\n"
     ]
    }
   ],
   "source": [
    "import pandas as pd\n",
    "df=pd.read_csv(\"C:\\\\Users\\\\LENOVO\\\\Downloads\\\\individuals_profile_dataset.csv\")\n",
    "new_df=df.dropna(inplace=True)\n",
    "print(new_df)\n"
   ]
  },
  {
   "cell_type": "markdown",
   "metadata": {},
   "source": [
    "# STATISTICAL ANALYSIS\n"
   ]
  },
  {
   "cell_type": "markdown",
   "metadata": {},
   "source": [
    "## Select numerical columns"
   ]
  },
  {
   "cell_type": "code",
   "execution_count": 137,
   "metadata": {},
   "outputs": [],
   "source": [
    "numeric_cols = ['Salary', 'Latitude', 'Longitude']\n",
    "subset = df[numeric_cols]\n"
   ]
  },
  {
   "cell_type": "markdown",
   "metadata": {},
   "source": [
    "### COVARIACE"
   ]
  },
  {
   "cell_type": "code",
   "execution_count": 138,
   "metadata": {},
   "outputs": [
    {
     "name": "stdout",
     "output_type": "stream",
     "text": [
      "                 Salary      Latitude     Longitude\n",
      "Salary     1.192895e+09  25769.225882 -98984.385840\n",
      "Latitude   2.576923e+04   2829.470832     69.074437\n",
      "Longitude -9.898439e+04     69.074437  11006.965628\n"
     ]
    }
   ],
   "source": [
    "cov_matrix=subset.cov()\n",
    "print(cov_matrix)"
   ]
  },
  {
   "cell_type": "markdown",
   "metadata": {},
   "source": [
    "### CORRELATION"
   ]
  },
  {
   "cell_type": "code",
   "execution_count": 139,
   "metadata": {},
   "outputs": [
    {
     "name": "stdout",
     "output_type": "stream",
     "text": [
      "             Salary  Latitude  Longitude\n",
      "Salary     1.000000  0.014026  -0.027317\n",
      "Latitude   0.014026  1.000000   0.012377\n",
      "Longitude -0.027317  0.012377   1.000000\n"
     ]
    }
   ],
   "source": [
    "cor_matrix=subset.corr()\n",
    "print(cor_matrix)\n"
   ]
  },
  {
   "cell_type": "markdown",
   "metadata": {},
   "source": [
    "### DESCRIBE"
   ]
  },
  {
   "cell_type": "code",
   "execution_count": 140,
   "metadata": {},
   "outputs": [
    {
     "name": "stdout",
     "output_type": "stream",
     "text": [
      "                ID         Salary     Latitude    Longitude\n",
      "count  1000.000000    1000.000000  1000.000000  1000.000000\n",
      "mean    500.500000   91507.436560    -3.594228     2.879955\n",
      "std     288.819436   34538.306637    53.192770   104.914087\n",
      "min       1.000000   30048.710000   -89.928347  -179.920769\n",
      "25%     250.750000   61660.225000   -50.094411   -82.957466\n",
      "50%     500.500000   93035.275000    -6.046054     1.663571\n",
      "75%     750.250000  120757.490000    42.387960    94.301095\n",
      "max    1000.000000  149988.940000    89.496193   179.541860\n"
     ]
    }
   ],
   "source": [
    "stats=df.describe()\n",
    "print(stats)"
   ]
  },
  {
   "cell_type": "markdown",
   "metadata": {},
   "source": [
    "### 1. What is the average salary in the dataset?"
   ]
  },
  {
   "cell_type": "code",
   "execution_count": 141,
   "metadata": {},
   "outputs": [
    {
     "name": "stdout",
     "output_type": "stream",
     "text": [
      "The average salary is: 91507.43656\n"
     ]
    }
   ],
   "source": [
    "# Calculate the average salary\n",
    "average_salary = df['Salary'].mean()  \n",
    "\n",
    "# Replace 'salary' with the actual column name for salary\n",
    "print(f\"The average salary is: {average_salary}\")"
   ]
  },
  {
   "cell_type": "markdown",
   "metadata": {},
   "source": [
    "### 2. What is the highest and lowest salary, and who earns them?"
   ]
  },
  {
   "cell_type": "code",
   "execution_count": 142,
   "metadata": {},
   "outputs": [
    {
     "data": {
      "text/plain": [
       "(np.float64(149988.94),\n",
       "              Name                   Job Title                  Company  \\\n",
       " 520  Amy Martinez  Designer, ceramics/pottery  Barrett, Lopez and Paul   \n",
       " \n",
       "         Salary  \n",
       " 520  149988.94  ,\n",
       " np.float64(30048.71),\n",
       "              Name   Job Title        Company    Salary\n",
       " 394  Tamara Davis  Astronomer  George-Curtis  30048.71)"
      ]
     },
     "execution_count": 142,
     "metadata": {},
     "output_type": "execute_result"
    }
   ],
   "source": [
    "# Find the highest and lowest salaries in the dataset\n",
    "highest_salary = df['Salary'].max()\n",
    "lowest_salary = df['Salary'].min()\n",
    "\n",
    "# Retrieve the details of individuals earning these salaries\n",
    "highest_earner = df[df['Salary'] == highest_salary]\n",
    "lowest_earner = df[df['Salary'] == lowest_salary]\n",
    "\n",
    "highest_salary, highest_earner[['Name', 'Job Title', 'Company', 'Salary']], \\\n",
    "lowest_salary, lowest_earner[['Name', 'Job Title', 'Company', 'Salary']]\n"
   ]
  },
  {
   "cell_type": "markdown",
   "metadata": {},
   "source": [
    "### 3. What are the top 5 most common job titles?"
   ]
  },
  {
   "cell_type": "code",
   "execution_count": 143,
   "metadata": {},
   "outputs": [
    {
     "data": {
      "text/plain": [
       "Job Title\n",
       "Media buyer                                                    7\n",
       "Scientist, water quality                                       6\n",
       "Scientist, clinical (histocompatibility and immunogenetics)    6\n",
       "Arts development officer                                       5\n",
       "Fisheries officer                                              5\n",
       "Name: count, dtype: int64"
      ]
     },
     "execution_count": 143,
     "metadata": {},
     "output_type": "execute_result"
    }
   ],
   "source": [
    "# Find the top 5 most common job titles\n",
    "top_job_titles = df['Job Title'].value_counts().head(5)\n",
    "top_job_titles\n"
   ]
  },
  {
   "cell_type": "markdown",
   "metadata": {},
   "source": [
    "### 4. How many unique companies are represented in the dataset?"
   ]
  },
  {
   "cell_type": "code",
   "execution_count": 144,
   "metadata": {},
   "outputs": [
    {
     "name": "stdout",
     "output_type": "stream",
     "text": [
      " 976 unique companies are represented in the dataset\n"
     ]
    }
   ],
   "source": [
    "# Count the number of unique companies\n",
    "unique_companies_count = df['Company'].nunique()\n",
    "print(f\" {unique_companies_count} unique companies are represented in the dataset\")\n"
   ]
  },
  {
   "cell_type": "markdown",
   "metadata": {},
   "source": [
    "### 5. What is the average age of individuals in the dataset?"
   ]
  },
  {
   "cell_type": "code",
   "execution_count": 145,
   "metadata": {},
   "outputs": [
    {
     "name": "stdout",
     "output_type": "stream",
     "text": [
      "The average age of individual  in the dataset is: 49.54\n"
     ]
    }
   ],
   "source": [
    "from datetime import datetime\n",
    "# Convert 'Date of Birth' to datetime format and calculate age\n",
    "df['Date of Birth'] = pd.to_datetime(df['Date of Birth'], format='%d-%m-%Y', errors='coerce')\n",
    "# Calculate ages based on today's date\n",
    "today = datetime.today()\n",
    "df['Age'] = df['Date of Birth'].apply(lambda dob: today.year - dob.year - ((today.month, today.day) < (dob.month, dob.day)) if pd.notnull(dob) else None)\n",
    "\n",
    "# Calculate the average age\n",
    "average_age = df['Age'].mean()\n",
    "print(f\"The average age of individual  in the dataset is: {average_age}\")"
   ]
  },
  {
   "cell_type": "markdown",
   "metadata": {},
   "source": [
    "### 6. What are the top 3 cities with the highest average salaries?"
   ]
  },
  {
   "cell_type": "code",
   "execution_count": 146,
   "metadata": {},
   "outputs": [
    {
     "name": "stdout",
     "output_type": "stream",
     "text": [
      "The top 3 cites with the highest average salaries is: City\n",
      "Port Maria      149988.94\n",
      "Delgadofort     149948.69\n",
      "Sheltonshire    149913.90\n",
      "Name: Salary, dtype: float64\n"
     ]
    }
   ],
   "source": [
    "# Group by 'City' and calculate the average salary for each city\n",
    "city_salary = df.groupby('City')['Salary'].mean()\n",
    "\n",
    "# Sort the cities by average salary in descending order and get the top 3\n",
    "top_cities_by_salary = city_salary.sort_values(ascending=False).head(3)\n",
    "print(f\"The top 3 cites with the highest average salaries is: {top_cities_by_salary}\")\n"
   ]
  },
  {
   "cell_type": "markdown",
   "metadata": {},
   "source": [
    "### 7. What are the longest and shortest names in the dataset?"
   ]
  },
  {
   "cell_type": "code",
   "execution_count": 147,
   "metadata": {},
   "outputs": [
    {
     "name": "stdout",
     "output_type": "stream",
     "text": [
      "Longest name: Mr. Alexander Landry MD\n",
      "Shortest name: Megan Le\n"
     ]
    }
   ],
   "source": [
    "\n",
    "\n",
    "# Replace 'name_column' with the actual column name containing the names\n",
    "name_column = 'Name'\n",
    "\n",
    "# Check if the column exists in the dataset\n",
    "if name_column in df.columns:\n",
    "    # Remove NaN values from the column\n",
    "    df[name_column] = df[name_column].dropna()\n",
    "    \n",
    "    # Find the longest and shortest names\n",
    "    longest_name = df[name_column].iloc[df[name_column].str.len().idxmax()]\n",
    "    shortest_name = df[name_column].iloc[df[name_column].str.len().idxmin()]\n",
    "    \n",
    "    print(f\"Longest name: {longest_name}\")\n",
    "    print(f\"Shortest name: {shortest_name}\")\n"
   ]
  },
  {
   "cell_type": "markdown",
   "metadata": {},
   "source": [
    "### 8. Find the city with the highest density of individuals in the dataset."
   ]
  },
  {
   "cell_type": "code",
   "execution_count": 148,
   "metadata": {},
   "outputs": [
    {
     "name": "stdout",
     "output_type": "stream",
     "text": [
      "City with the highest density: Jenniferstad\n",
      "Number of individuals in Jenniferstad: 3\n"
     ]
    }
   ],
   "source": [
    "# Replace 'city_column' with the actual column name for city names\n",
    "city_column = 'City'\n",
    "\n",
    "# Check if the column exists in the dataset\n",
    "if city_column in df.columns:\n",
    "    # Calculate the count of individuals per city\n",
    "    city_counts = df[city_column].value_counts()\n",
    "    \n",
    "    # Find the city with the highest density\n",
    "    most_dense_city = city_counts.idxmax()\n",
    "    highest_density = city_counts.max()\n",
    "    \n",
    "    print(f\"City with the highest density: {most_dense_city}\")\n",
    "    print(f\"Number of individuals in {most_dense_city}: {highest_density}\")"
   ]
  },
  {
   "cell_type": "markdown",
   "metadata": {},
   "source": [
    "### 9. What is the distribution of recorded dates (Date column) over time?"
   ]
  },
  {
   "cell_type": "code",
   "execution_count": 149,
   "metadata": {},
   "outputs": [
    {
     "name": "stdout",
     "output_type": "stream",
     "text": [
      "Date distribution:\n",
      "Date\n",
      "2020-01-02    2\n",
      "2020-01-09    2\n",
      "2020-01-12    2\n",
      "2020-02-06    2\n",
      "2020-02-07    1\n",
      "Name: count, dtype: int64\n"
     ]
    },
    {
     "data": {
      "image/png": "[encoded data removed]",
      "text/plain": [
       "<Figure size 1200x600 with 1 Axes>"
      ]
     },
     "metadata": {},
     "output_type": "display_data"
    }
   ],
   "source": [
    "\n",
    "# Replace 'date_column' with the actual name of the date column\n",
    "date_column = 'Date'\n",
    "\n",
    "# Check if the column exists\n",
    "if date_column in df.columns:\n",
    "    # Convert the column to datetime format\n",
    "    df[date_column] = pd.to_datetime(df[date_column], errors='coerce')\n",
    "    \n",
    "    # Drop rows with invalid dates\n",
    "    date = df.dropna(subset=[date_column])\n",
    "    \n",
    "    # Group by date and count occurrences\n",
    "    date_distribution = df[date_column].value_counts().sort_index()\n",
    "    \n",
    "    # Display the first few rows of the distribution\n",
    "    print(\"Date distribution:\")\n",
    "    print(date_distribution.head())\n",
    "    \n",
    "    # Plot the distribution\n",
    "    plt.figure(figsize=(12, 6))\n",
    "    date_distribution.plot(kind='line', marker='o', color='blue')\n",
    "    plt.title('Distribution of Recorded Dates Over Time')\n",
    "    plt.xlabel('Date')\n",
    "    plt.ylabel('Frequency')\n",
    "    plt.grid(True)\n",
    "    plt.show()\n"
   ]
  },
  {
   "cell_type": "markdown",
   "metadata": {},
   "source": [
    "### 10. How many individuals earn more than $100,000 per year?"
   ]
  },
  {
   "cell_type": "code",
   "execution_count": 160,
   "metadata": {},
   "outputs": [
    {
     "name": "stdout",
     "output_type": "stream",
     "text": [
      "435 individuals earn more than $100,000 per year.\n"
     ]
    }
   ],
   "source": [
    "# Count the number of individuals earning more than $100,000 per year\n",
    "individuals_earning_above_100k = df[df['Salary'] > 100000].shape[0]\n",
    "print(f\"{individuals_earning_above_100k} individuals earn more than $100,000 per year.\")"
   ]
  },
  {
   "cell_type": "markdown",
   "metadata": {},
   "source": [
    "### 11. How many individuals live in cities with more than 4 people in the dataset?\n"
   ]
  },
  {
   "cell_type": "code",
   "execution_count": 151,
   "metadata": {},
   "outputs": [
    {
     "data": {
      "text/plain": [
       "np.int64(0)"
      ]
     },
     "execution_count": 151,
     "metadata": {},
     "output_type": "execute_result"
    }
   ],
   "source": [
    "# Group by 'City' and count the number of individuals in each city\n",
    "city_population = df['City'].value_counts()\n",
    "\n",
    "# Filter cities with more than 4 people\n",
    "cities_with_more_than_4 = city_population[city_population > 4]\n",
    "\n",
    "# Count the total number of individuals in those cities\n",
    "total_individuals_in_larger_cities = cities_with_more_than_4.sum()\n",
    "\n",
    "total_individuals_in_larger_cities\n"
   ]
  },
  {
   "cell_type": "markdown",
   "metadata": {},
   "source": [
    "### 12. How many individuals have valid phone numbers and emails?"
   ]
  },
  {
   "cell_type": "code",
   "execution_count": 152,
   "metadata": {},
   "outputs": [
    {
     "name": "stdout",
     "output_type": "stream",
     "text": [
      "Number of individuals with valid phone numbers and emails: 1000\n"
     ]
    }
   ],
   "source": [
    "# Define functions to validate email and phone number\n",
    "def is_valid_email(email):\n",
    "    # Simple regex for validating an email\n",
    "    pattern = r'^[\\w\\.-]+@[\\w\\.-]+\\.\\w+$'\n",
    "    return bool(re.match(pattern, str(email)))\n",
    "\n",
    "def is_valid_phone(phone):\n",
    "    # Check if the phone number contains valid characters\n",
    "    pattern = r'^[\\d\\+\\-\\.\\(\\)\\sx]+$'\n",
    "    return bool(re.match(pattern, str(phone)))\n",
    "\n",
    "# Apply the validation functions\n",
    "df['Valid Email'] = df['Email'].apply(is_valid_email)\n",
    "df['Valid Phone'] = df['Phone Number'].apply(is_valid_phone)\n",
    "\n",
    "# Count individuals with both valid email and phone\n",
    "valid_individuals = df[(df['Valid Email']) & (df['Valid Phone'])].shape[0]\n",
    "\n",
    "print(f\"Number of individuals with valid phone numbers and emails: {valid_individuals}\")"
   ]
  },
  {
   "cell_type": "markdown",
   "metadata": {},
   "source": [
    "### 13. Group individuals by job title and compute the average salary for each group."
   ]
  },
  {
   "cell_type": "code",
   "execution_count": 153,
   "metadata": {},
   "outputs": [
    {
     "name": "stdout",
     "output_type": "stream",
     "text": [
      "                                Job Title  Average Salary\n",
      "116            Designer, ceramics/pottery       149988.94\n",
      "484                          Town planner       149814.53\n",
      "58                      Building surveyor       149417.92\n",
      "83              Claims inspector/assessor       149270.17\n",
      "339                        Pharmacologist       149070.86\n",
      "..                                    ...             ...\n",
      "224               Horticulturist, amenity        30779.85\n",
      "392     Research officer, political party        30707.53\n",
      "328  Outdoor activities/education manager        30665.38\n",
      "188                           Fine artist        30321.09\n",
      "499               Water quality scientist        30202.95\n",
      "\n",
      "[504 rows x 2 columns]\n"
     ]
    }
   ],
   "source": [
    "# Group by 'Job Title' and compute the average salary for each group\n",
    "average_salary_by_job = df.groupby('Job Title')['Salary'].mean().reset_index()\n",
    "\n",
    "# Rename the columns for clarity\n",
    "average_salary_by_job.columns = ['Job Title', 'Average Salary']\n",
    "\n",
    "# Display the result\n",
    "print(average_salary_by_job.sort_values(by='Average Salary', ascending=False))\n"
   ]
  },
  {
   "cell_type": "markdown",
   "metadata": {},
   "source": [
    "### 14. What percentage of individuals earn below $50,000 per year?"
   ]
  },
  {
   "cell_type": "code",
   "execution_count": 162,
   "metadata": {},
   "outputs": [
    {
     "name": "stdout",
     "output_type": "stream",
     "text": [
      "15.1 percentage of individuals earn below $50000 per year\n"
     ]
    }
   ],
   "source": [
    " # Calculate the total number of individuals in the dataset\n",
    "total_individuals = df.shape[0]\n",
    "\n",
    "# Count the number of individuals earning below $50,000 per year\n",
    "individuals_earning_below_50k = df[df['Salary'] < 50000].shape[0]\n",
    "\n",
    "# Calculate the percentage\n",
    "percentage_below_50k = (individuals_earning_below_50k / total_individuals) * 100\n",
    "\n",
    "print(f\"{percentage_below_50k} percentage of individuals earn below $50000 per year\") \n"
   ]
  },
  {
   "cell_type": "markdown",
   "metadata": {},
   "source": [
    "### 15. What is the median salary for employees in the most represented company?"
   ]
  },
  {
   "cell_type": "code",
   "execution_count": 103,
   "metadata": {},
   "outputs": [
    {
     "name": "stdout",
     "output_type": "stream",
     "text": [
      "The median salary for employees in Brown PLC is 119611.96.\n"
     ]
    }
   ],
   "source": [
    "# Identify the most represented company\n",
    "most_represented_company = employees_per_company.loc[0, 'Company']\n",
    "\n",
    "# Filter data for employees in the most represented company\n",
    "most_represented_company_data = df[df['Company'] == most_represented_company]\n",
    "\n",
    "# Calculate the median salary for employees in that company\n",
    "median_salary = most_represented_company_data['Salary'].median()\n",
    "\n",
    "# Display the result\n",
    "print(f\"The median salary for employees in {most_represented_company} is {median_salary:.2f}.\")\n"
   ]
  },
  {
   "cell_type": "markdown",
   "metadata": {},
   "source": [
    "### SCATTERPLOT"
   ]
  },
  {
   "cell_type": "code",
   "execution_count": 48,
   "metadata": {},
   "outputs": [
    {
     "data": {
      "text/plain": [
       "<Axes: xlabel='Longitude', ylabel='Latitude'>"
      ]
     },
     "execution_count": 48,
     "metadata": {},
     "output_type": "execute_result"
    },
    {
     "data": {
      "image/png": "[encoded data removed]",
      "text/plain": [
       "<Figure size 640x480 with 1 Axes>"
      ]
     },
     "metadata": {},
     "output_type": "display_data"
    }
   ],
   "source": [
    "sns.scatterplot(data=df,x='Longitude',y='Latitude')"
   ]
  },
  {
   "cell_type": "markdown",
   "metadata": {},
   "source": [
    "### Histogram"
   ]
  },
  {
   "cell_type": "code",
   "execution_count": 49,
   "metadata": {},
   "outputs": [
    {
     "data": {
      "text/plain": [
       "<Axes: xlabel='Salary', ylabel='Count'>"
      ]
     },
     "execution_count": 49,
     "metadata": {},
     "output_type": "execute_result"
    },
    {
     "data": {
      "image/png": "[encoded data removed]",
      "text/plain": [
       "<Figure size 640x480 with 1 Axes>"
      ]
     },
     "metadata": {},
     "output_type": "display_data"
    }
   ],
   "source": [
    "sns.histplot(df['Salary'],bins=30,kde=True)"
   ]
  },
  {
   "cell_type": "markdown",
   "metadata": {},
   "source": [
    "### PIE CHART REPRESENTATION"
   ]
  },
  {
   "cell_type": "code",
   "execution_count": null,
   "metadata": {},
   "outputs": [
    {
     "name": "stdout",
     "output_type": "stream",
     "text": [
      "Salary ranges data for pie chart:\n",
      "salary_range\n",
      "<30K           0\n",
      "30K-60K      238\n",
      "60K-100K     327\n",
      "100K-150K    435\n",
      ">150K          0\n",
      "Name: count, dtype: int64\n"
     ]
    },
    {
     "data": {
      "image/png": "[encoded data removed]",
      "text/plain": [
       "<Figure size 800x800 with 1 Axes>"
      ]
     },
     "metadata": {},
     "output_type": "display_data"
    }
   ],
   "source": [
    "\n",
    "# Replace 'salary_column' with the actual column name for salaries\n",
    "salary_column = 'Salary'  # Example: Replace with the actual column name\n",
    "\n",
    "# Check if the column exists and is numeric\n",
    "if salary_column in df.columns and pd.api.types.is_numeric_dtype(df[salary_column]):\n",
    "    # Define salary ranges\n",
    "    bins = [0, 30000, 60000, 100000, 150000, float('inf')]\n",
    "    labels = ['<30K', '30K-60K', '60K-100K', '100K-150K', '>150K']\n",
    "    \n",
    "    # Create a new column for salary ranges\n",
    "    df['salary_range'] = pd.cut(df[salary_column], bins=bins, labels=labels, right=False)\n",
    "    \n",
    "    # Count the occurrences of each salary range\n",
    "    salary_counts = df['salary_range'].value_counts().sort_index()\n",
    "    \n",
    "    # Display the data for the pie chart\n",
    "    print(\"Salary ranges data for pie chart:\")\n",
    "    print(salary_counts)\n",
    "    \n",
    "    # Plot the pie chart\n",
    "    plt.figure(figsize=(8, 8))\n",
    "    salary_counts.plot.pie(\n",
    "        autopct='%1.1f%%', \n",
    "        startangle=90, \n",
    "        cmap=\"Set3\", \n",
    "        explode=[0.1 if i == salary_counts.idxmax() else 0 for i in salary_counts.index]\n",
    "    )\n",
    "    plt.title(\"Distribution of Salary Ranges\")\n",
    "    plt.ylabel('')  # Hide the default y-axis label\n",
    "    plt.show()\n",
    "\n"
   ]
  },
  {
   "cell_type": "markdown",
   "metadata": {},
   "source": [
    "# CONCLUSION"
   ]
  },
  {
   "cell_type": "markdown",
   "metadata": {},
   "source": [
    "### The dataset provides a comprehensive view of the individuals, highlighting key geographic, economic, and demographic patterns. The scatterplot of geographic coordinates (latitude and longitude) illustrates clusters of individuals in specific regions, likely representing areas of high population density or interest. Analysis of names in the dataset showcased the diversity, with some individuals having notably long or short names, which might reflect cultural or regional naming conventions.\n",
    "\n",
    "### The city-wise analysis revealed the city with the highest density of individuals, pointing to urban hubs or regions of significant activity, which could be crucial for market targeting, resource allocation, or service delivery. Additionally, a pie chart of salary ranges uncovered the economic diversity within the population, showcasing disparities or concentrations of individuals in specific income brackets. This information could help in understanding the socio-economic landscape and tailoring interventions or policies accordingly.\n",
    "\n",
    "### Categorical data, such as professions, gender, or other attributes, visualized through pie charts, provided insight into the composition of the population, helping to identify dominant groups or underrepresented categories. If the dataset includes additional variables such as age or education levels, these could further enrich the understanding of the population's characteristics. Overall, the dataset offers a multidimensional perspective, which can be instrumental in decision-making, research, or business planning."
   ]
  }
 ],
 "metadata": {
  "kernelspec": {
   "display_name": "Python 3",
   "language": "python",
   "name": "python3"
  },
  "language_info": {
   "codemirror_mode": {
    "name": "ipython",
    "version": 3
   },
   "file_extension": ".py",
   "mimetype": "text/x-python",
   "name": "python",
   "nbconvert_exporter": "python",
   "pygments_lexer": "ipython3",
   "version": "3.10.11"
  }
 },
 "nbformat": 4,
 "nbformat_minor": 2
}
