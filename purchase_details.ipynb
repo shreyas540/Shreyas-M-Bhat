{
 "cells": [
  {
   "cell_type": "markdown",
   "metadata": {},
   "source": [
    "# PURCHASE DETAILS"
   ]
  },
  {
   "cell_type": "markdown",
   "metadata": {},
   "source": [
    "### This dataset is a comprehensive compilation of 1,000 entries, encapsulating a diverse range of demographic, professional, and consumer data. It includes columns such as \"Date\" and \"Time,\" which capture specific timestamps, alongside \"Name,\" \"Age,\" and \"Gender\" to reflect personal details. Additionally, it features \"City,\" \"Department,\" and \"Experience (Years)\" to provide insights into geographic and professional backgrounds. Financial attributes like \"Salary\" and qualitative metrics such as \"Rating\" add depth to the data. Moreover, consumer behavior is represented through columns like \"Product Purchased\" and \"Quantity,\" while contact information is detailed with \"Phone Number\" and \"Email.\" This dataset is ideal for analytical projects focusing on demographics, professional trends, and purchase behaviors."
   ]
  },
  {
   "cell_type": "markdown",
   "metadata": {},
   "source": [
    "## IMPORTING LIBRARIES AND DATASET"
   ]
  },
  {
   "cell_type": "code",
   "execution_count": 290,
   "metadata": {},
   "outputs": [],
   "source": [
    "import pandas as pd\n",
    "import numpy as np\n",
    "import matplotlib.pyplot as plt\n",
    "import seaborn as sns\n",
    "df=pd.read_csv(r\"C:\\Users\\LENOVO\\Downloads\\purchase_details.csv\")"
   ]
  },
  {
   "cell_type": "markdown",
   "metadata": {},
   "source": [
    "# ANALYZING OF FIRST 20 DATA"
   ]
  },
  {
   "cell_type": "code",
   "execution_count": 291,
   "metadata": {},
   "outputs": [
    {
     "name": "stdout",
     "output_type": "stream",
     "text": [
      "          Date      Time       Name  Age       City    Salary   Department  \\\n",
      "0   2022-10-07  19:06:00   jgQHUUVN   37  Bangalore  60570.66    Marketing   \n",
      "1   2024-12-26  05:57:18  yDZozORNR   26    Chennai  27133.28    Marketing   \n",
      "2   2021-09-13  19:17:53   uheZRrnk   43    Chennai  70248.16    Marketing   \n",
      "3   2020-12-31  10:09:10   IzYtDFXS   54  Bangalore  94105.19           HR   \n",
      "4   2021-09-02  21:27:21    ipQHOBJ   30  Hyderabad  90568.42    Marketing   \n",
      "5   2024-11-30  20:52:45      OaMFN   41  Hyderabad  32605.58      Finance   \n",
      "6   2023-12-28  11:04:17  FRFRdbzkl   43    Chennai  48040.14  Engineering   \n",
      "7   2024-10-15  00:39:19    miBUxIg   57    Chennai  88032.50      Finance   \n",
      "8   2024-08-17  23:41:41      UoKqa   44     Mumbai  61674.39      Finance   \n",
      "9   2021-10-01  09:27:19    OWzdZkd   56  Hyderabad  84993.98      Finance   \n",
      "10  2023-06-21  17:23:26   xTGUTNIb   26      Delhi  25770.89    Marketing   \n",
      "11  2021-05-08  06:30:05  JvpzXfCHR   45     Mumbai  59672.47    Marketing   \n",
      "12  2020-10-02  07:49:13   soUaKFvj   41    Chennai  25315.08        Sales   \n",
      "13  2021-04-28  04:47:32    LLsxahe   49    Chennai  68667.68        Sales   \n",
      "14  2024-02-17  11:38:26   VTPfUqbA   41  Bangalore  43668.65  Engineering   \n",
      "15  2020-01-26  12:20:40   RFXqMjMX   18  Hyderabad  50858.37        Sales   \n",
      "16  2020-11-04  14:41:29    KCCDavm   55  Bangalore  98655.71      Finance   \n",
      "17  2023-01-03  07:56:16  TAxLxfNXi   26      Delhi  96014.17        Sales   \n",
      "18  2022-05-27  18:37:10    jAHwZZn   31  Bangalore  91822.77    Marketing   \n",
      "19  2023-09-19  02:34:00    jTFPEnB   32     Mumbai  77333.55  Engineering   \n",
      "\n",
      "    Rating  Experience (Years)  Gender Marital Status    Phone Number  \\\n",
      "0      2.8                   0   Other       Divorced  +91-9637754788   \n",
      "1      4.5                  28    Male         Single  +91-7788450261   \n",
      "2      4.4                  13   Other        Married  +91-9789661223   \n",
      "3      2.0                   6    Male        Widowed  +91-8289531943   \n",
      "4      4.0                  23  Female        Married  +91-8310562153   \n",
      "5      4.4                   6    Male       Divorced  +91-7977703605   \n",
      "6      4.4                  39   Other        Widowed  +91-7848395823   \n",
      "7      4.7                  20    Male        Married  +91-7748187326   \n",
      "8      4.6                   4   Other       Divorced  +91-7526505535   \n",
      "9      3.8                  38   Other       Divorced  +91-7950736381   \n",
      "10     4.6                  24   Other       Divorced  +91-8127000943   \n",
      "11     2.6                  12   Other        Married  +91-8791514101   \n",
      "12     3.2                  19  Female         Single  +91-8742811230   \n",
      "13     4.9                   4  Female         Single  +91-9499404555   \n",
      "14     2.9                   2    Male        Married  +91-7470760622   \n",
      "15     3.8                  39    Male       Divorced  +91-7887196923   \n",
      "16     3.1                  24   Other         Single  +91-9302911606   \n",
      "17     4.7                  25   Other        Married  +91-9198014835   \n",
      "18     2.1                  13  Female       Divorced  +91-7420896569   \n",
      "19     1.0                  36   Other        Widowed  +91-7124886638   \n",
      "\n",
      "                     Email Product Purchased  Quantity  \n",
      "0        yaeul@example.com        Headphones         2  \n",
      "1    jcyzwnwto@example.com            Tablet         5  \n",
      "2     byhogmmy@example.com            Laptop         4  \n",
      "3    mmgkdcyrw@example.com            Mobile         3  \n",
      "4   drqsaksdwe@example.com            Mobile         3  \n",
      "5        qhjql@example.com        Headphones         3  \n",
      "6   pvjntpawcb@example.com        Smartwatch         5  \n",
      "7   nxyoljqhxe@example.com        Smartwatch         2  \n",
      "8   xqkspbccfq@example.com            Mobile         5  \n",
      "9     iuxmrcnq@example.com            Tablet         4  \n",
      "10   fqzyovmcy@example.com        Headphones         2  \n",
      "11    zlpvhujh@example.com            Tablet         5  \n",
      "12    jtjrsybv@example.com            Mobile         3  \n",
      "13     avhfntb@example.com        Smartwatch         2  \n",
      "14       aipdm@example.com            Tablet         1  \n",
      "15  ifflesefaj@example.com        Smartwatch         1  \n",
      "16     xubvpyk@example.com        Smartwatch         4  \n",
      "17      dvgfpv@example.com            Tablet         4  \n",
      "18      cygjbz@example.com            Tablet         3  \n",
      "19  yorbcmkzmc@example.com            Mobile         2  \n"
     ]
    }
   ],
   "source": [
    "print(df.head(20))"
   ]
  },
  {
   "cell_type": "markdown",
   "metadata": {},
   "source": [
    "# ANALYSING OF LAST 20 DATA \n"
   ]
  },
  {
   "cell_type": "code",
   "execution_count": 292,
   "metadata": {},
   "outputs": [
    {
     "name": "stdout",
     "output_type": "stream",
     "text": [
      "           Date      Time        Name  Age       City    Salary   Department  \\\n",
      "980  2021-02-24  22:41:46  zdAQtiuVLy   42  Hyderabad  20772.89  Engineering   \n",
      "981  2023-11-04  14:46:44    dnWYQAuW   60  Hyderabad  50812.67  Engineering   \n",
      "982  2022-03-11  00:19:04    VAZpYwwC   48    Chennai  31004.02           HR   \n",
      "983  2020-05-16  05:44:21   LCnupEWwc   55      Delhi  25221.67        Sales   \n",
      "984  2020-10-15  01:30:35      cYJrtf   60      Delhi  39980.85  Engineering   \n",
      "985  2020-01-11  21:30:36     mjzDvqp   18    Chennai  52540.89  Engineering   \n",
      "986  2024-05-07  10:24:53  PbahaDwhlp   57  Hyderabad  22281.31  Engineering   \n",
      "987  2022-03-29  00:24:56     yqaZAkz   25  Hyderabad  80715.78      Finance   \n",
      "988  2024-03-24  13:42:04   FxnXZEYDG   58     Mumbai  77811.56  Engineering   \n",
      "989  2021-08-09  04:34:32      WakTyb   23  Bangalore  78182.38      Finance   \n",
      "990  2020-03-31  02:42:50    Ujonqhfg   34      Delhi  74385.49    Marketing   \n",
      "991  2022-01-30  06:57:27      WotEyG   59  Bangalore  31661.42    Marketing   \n",
      "992  2021-04-14  21:49:24       qXwIc   47     Mumbai  91628.83      Finance   \n",
      "993  2023-03-15  03:46:16    hDoaydbR   54  Bangalore  45067.49        Sales   \n",
      "994  2020-07-29  07:02:50    XGHauMte   40    Chennai  28699.55      Finance   \n",
      "995  2020-01-08  10:13:25   EBXTxyPFR   32      Delhi  69646.92  Engineering   \n",
      "996  2024-01-07  15:06:15  cYUjreiBqI   39      Delhi  81422.77      Finance   \n",
      "997  2022-01-29  20:29:38      bpdenn   44      Delhi  89528.82      Finance   \n",
      "998  2022-01-14  00:25:52      NaEJjT   55    Chennai  94870.09    Marketing   \n",
      "999  2021-08-16  05:58:11      OAdIiV   23  Bangalore  87586.34      Finance   \n",
      "\n",
      "     Rating  Experience (Years)  Gender Marital Status    Phone Number  \\\n",
      "980     3.1                  15    Male       Divorced  +91-9156625190   \n",
      "981     2.2                  26    Male        Married  +91-8119650576   \n",
      "982     2.9                  30   Other         Single  +91-9157923728   \n",
      "983     5.0                  27    Male        Widowed  +91-8436931803   \n",
      "984     2.9                  38    Male         Single  +91-7989703697   \n",
      "985     2.5                  14   Other        Married  +91-9857448988   \n",
      "986     2.9                  10    Male       Divorced  +91-7535540402   \n",
      "987     1.3                   6  Female        Widowed  +91-9239295538   \n",
      "988     1.4                  28    Male        Widowed  +91-9087667034   \n",
      "989     2.1                  10  Female       Divorced  +91-9989203776   \n",
      "990     3.0                  19  Female         Single  +91-7434798408   \n",
      "991     3.9                  25    Male        Married  +91-8024437551   \n",
      "992     2.1                  38  Female        Married  +91-8668453966   \n",
      "993     2.0                   4    Male       Divorced  +91-8047348648   \n",
      "994     2.9                  28    Male       Divorced  +91-9021896932   \n",
      "995     2.1                  20   Other        Married  +91-9470399485   \n",
      "996     1.1                   0   Other         Single  +91-8264221959   \n",
      "997     3.7                  35   Other        Married  +91-9506338790   \n",
      "998     1.8                  38   Other        Married  +91-9077451152   \n",
      "999     4.6                  30    Male         Single  +91-8689545056   \n",
      "\n",
      "                      Email Product Purchased  Quantity  \n",
      "980     zsrgqnu@example.com            Laptop         1  \n",
      "981    tgzzffxt@example.com        Smartwatch         4  \n",
      "982   gvyvkpolx@example.com            Laptop         5  \n",
      "983       ihsxo@example.com        Smartwatch         1  \n",
      "984      novqxf@example.com        Smartwatch         5  \n",
      "985     awiohto@example.com            Laptop         3  \n",
      "986       ogapw@example.com            Laptop         5  \n",
      "987  ztofjzicdz@example.com            Laptop         1  \n",
      "988    gxdeltxb@example.com            Tablet         1  \n",
      "989    mgvnnsof@example.com            Tablet         3  \n",
      "990   frjthynxr@example.com            Tablet         1  \n",
      "991      plywby@example.com        Headphones         2  \n",
      "992       pghds@example.com            Tablet         3  \n",
      "993   nmgaknbhi@example.com            Tablet         2  \n",
      "994  purtrawepe@example.com        Headphones         1  \n",
      "995   ajaqslcni@example.com            Mobile         5  \n",
      "996   aaafgerhm@example.com            Tablet         2  \n",
      "997       sxnmn@example.com            Mobile         2  \n",
      "998   dzhqggjen@example.com        Headphones         1  \n",
      "999  omwfrmbsng@example.com            Mobile         1  \n"
     ]
    }
   ],
   "source": [
    "print(df.tail(20))"
   ]
  },
  {
   "cell_type": "markdown",
   "metadata": {},
   "source": [
    "# CHECKING INFORMATION"
   ]
  },
  {
   "cell_type": "code",
   "execution_count": 293,
   "metadata": {},
   "outputs": [
    {
     "name": "stdout",
     "output_type": "stream",
     "text": [
      "<class 'pandas.core.frame.DataFrame'>\n",
      "RangeIndex: 1000 entries, 0 to 999\n",
      "Data columns (total 15 columns):\n",
      " #   Column              Non-Null Count  Dtype  \n",
      "---  ------              --------------  -----  \n",
      " 0   Date                1000 non-null   object \n",
      " 1   Time                1000 non-null   object \n",
      " 2   Name                1000 non-null   object \n",
      " 3   Age                 1000 non-null   int64  \n",
      " 4   City                1000 non-null   object \n",
      " 5   Salary              1000 non-null   float64\n",
      " 6   Department          1000 non-null   object \n",
      " 7   Rating              1000 non-null   float64\n",
      " 8   Experience (Years)  1000 non-null   int64  \n",
      " 9   Gender              1000 non-null   object \n",
      " 10  Marital Status      1000 non-null   object \n",
      " 11  Phone Number        1000 non-null   object \n",
      " 12  Email               1000 non-null   object \n",
      " 13  Product Purchased   1000 non-null   object \n",
      " 14  Quantity            1000 non-null   int64  \n",
      "dtypes: float64(2), int64(3), object(10)\n",
      "memory usage: 117.3+ KB\n",
      "None\n"
     ]
    }
   ],
   "source": [
    "\n",
    "print(df.info())"
   ]
  },
  {
   "cell_type": "markdown",
   "metadata": {},
   "source": [
    "# CHECKING FOR NULL VALUE"
   ]
  },
  {
   "cell_type": "code",
   "execution_count": 294,
   "metadata": {},
   "outputs": [
    {
     "data": {
      "text/html": [
       "<div>\n",
       "<style scoped>\n",
       "    .dataframe tbody tr th:only-of-type {\n",
       "        vertical-align: middle;\n",
       "    }\n",
       "\n",
       "    .dataframe tbody tr th {\n",
       "        vertical-align: top;\n",
       "    }\n",
       "\n",
       "    .dataframe thead th {\n",
       "        text-align: right;\n",
       "    }\n",
       "</style>\n",
       "<table border=\"1\" class=\"dataframe\">\n",
       "  <thead>\n",
       "    <tr style=\"text-align: right;\">\n",
       "      <th></th>\n",
       "      <th>Date</th>\n",
       "      <th>Time</th>\n",
       "      <th>Name</th>\n",
       "      <th>Age</th>\n",
       "      <th>City</th>\n",
       "      <th>Salary</th>\n",
       "      <th>Department</th>\n",
       "      <th>Rating</th>\n",
       "      <th>Experience (Years)</th>\n",
       "      <th>Gender</th>\n",
       "      <th>Marital Status</th>\n",
       "      <th>Phone Number</th>\n",
       "      <th>Email</th>\n",
       "      <th>Product Purchased</th>\n",
       "      <th>Quantity</th>\n",
       "    </tr>\n",
       "  </thead>\n",
       "  <tbody>\n",
       "    <tr>\n",
       "      <th>0</th>\n",
       "      <td>False</td>\n",
       "      <td>False</td>\n",
       "      <td>False</td>\n",
       "      <td>False</td>\n",
       "      <td>False</td>\n",
       "      <td>False</td>\n",
       "      <td>False</td>\n",
       "      <td>False</td>\n",
       "      <td>False</td>\n",
       "      <td>False</td>\n",
       "      <td>False</td>\n",
       "      <td>False</td>\n",
       "      <td>False</td>\n",
       "      <td>False</td>\n",
       "      <td>False</td>\n",
       "    </tr>\n",
       "    <tr>\n",
       "      <th>1</th>\n",
       "      <td>False</td>\n",
       "      <td>False</td>\n",
       "      <td>False</td>\n",
       "      <td>False</td>\n",
       "      <td>False</td>\n",
       "      <td>False</td>\n",
       "      <td>False</td>\n",
       "      <td>False</td>\n",
       "      <td>False</td>\n",
       "      <td>False</td>\n",
       "      <td>False</td>\n",
       "      <td>False</td>\n",
       "      <td>False</td>\n",
       "      <td>False</td>\n",
       "      <td>False</td>\n",
       "    </tr>\n",
       "    <tr>\n",
       "      <th>2</th>\n",
       "      <td>False</td>\n",
       "      <td>False</td>\n",
       "      <td>False</td>\n",
       "      <td>False</td>\n",
       "      <td>False</td>\n",
       "      <td>False</td>\n",
       "      <td>False</td>\n",
       "      <td>False</td>\n",
       "      <td>False</td>\n",
       "      <td>False</td>\n",
       "      <td>False</td>\n",
       "      <td>False</td>\n",
       "      <td>False</td>\n",
       "      <td>False</td>\n",
       "      <td>False</td>\n",
       "    </tr>\n",
       "    <tr>\n",
       "      <th>3</th>\n",
       "      <td>False</td>\n",
       "      <td>False</td>\n",
       "      <td>False</td>\n",
       "      <td>False</td>\n",
       "      <td>False</td>\n",
       "      <td>False</td>\n",
       "      <td>False</td>\n",
       "      <td>False</td>\n",
       "      <td>False</td>\n",
       "      <td>False</td>\n",
       "      <td>False</td>\n",
       "      <td>False</td>\n",
       "      <td>False</td>\n",
       "      <td>False</td>\n",
       "      <td>False</td>\n",
       "    </tr>\n",
       "    <tr>\n",
       "      <th>4</th>\n",
       "      <td>False</td>\n",
       "      <td>False</td>\n",
       "      <td>False</td>\n",
       "      <td>False</td>\n",
       "      <td>False</td>\n",
       "      <td>False</td>\n",
       "      <td>False</td>\n",
       "      <td>False</td>\n",
       "      <td>False</td>\n",
       "      <td>False</td>\n",
       "      <td>False</td>\n",
       "      <td>False</td>\n",
       "      <td>False</td>\n",
       "      <td>False</td>\n",
       "      <td>False</td>\n",
       "    </tr>\n",
       "    <tr>\n",
       "      <th>...</th>\n",
       "      <td>...</td>\n",
       "      <td>...</td>\n",
       "      <td>...</td>\n",
       "      <td>...</td>\n",
       "      <td>...</td>\n",
       "      <td>...</td>\n",
       "      <td>...</td>\n",
       "      <td>...</td>\n",
       "      <td>...</td>\n",
       "      <td>...</td>\n",
       "      <td>...</td>\n",
       "      <td>...</td>\n",
       "      <td>...</td>\n",
       "      <td>...</td>\n",
       "      <td>...</td>\n",
       "    </tr>\n",
       "    <tr>\n",
       "      <th>995</th>\n",
       "      <td>False</td>\n",
       "      <td>False</td>\n",
       "      <td>False</td>\n",
       "      <td>False</td>\n",
       "      <td>False</td>\n",
       "      <td>False</td>\n",
       "      <td>False</td>\n",
       "      <td>False</td>\n",
       "      <td>False</td>\n",
       "      <td>False</td>\n",
       "      <td>False</td>\n",
       "      <td>False</td>\n",
       "      <td>False</td>\n",
       "      <td>False</td>\n",
       "      <td>False</td>\n",
       "    </tr>\n",
       "    <tr>\n",
       "      <th>996</th>\n",
       "      <td>False</td>\n",
       "      <td>False</td>\n",
       "      <td>False</td>\n",
       "      <td>False</td>\n",
       "      <td>False</td>\n",
       "      <td>False</td>\n",
       "      <td>False</td>\n",
       "      <td>False</td>\n",
       "      <td>False</td>\n",
       "      <td>False</td>\n",
       "      <td>False</td>\n",
       "      <td>False</td>\n",
       "      <td>False</td>\n",
       "      <td>False</td>\n",
       "      <td>False</td>\n",
       "    </tr>\n",
       "    <tr>\n",
       "      <th>997</th>\n",
       "      <td>False</td>\n",
       "      <td>False</td>\n",
       "      <td>False</td>\n",
       "      <td>False</td>\n",
       "      <td>False</td>\n",
       "      <td>False</td>\n",
       "      <td>False</td>\n",
       "      <td>False</td>\n",
       "      <td>False</td>\n",
       "      <td>False</td>\n",
       "      <td>False</td>\n",
       "      <td>False</td>\n",
       "      <td>False</td>\n",
       "      <td>False</td>\n",
       "      <td>False</td>\n",
       "    </tr>\n",
       "    <tr>\n",
       "      <th>998</th>\n",
       "      <td>False</td>\n",
       "      <td>False</td>\n",
       "      <td>False</td>\n",
       "      <td>False</td>\n",
       "      <td>False</td>\n",
       "      <td>False</td>\n",
       "      <td>False</td>\n",
       "      <td>False</td>\n",
       "      <td>False</td>\n",
       "      <td>False</td>\n",
       "      <td>False</td>\n",
       "      <td>False</td>\n",
       "      <td>False</td>\n",
       "      <td>False</td>\n",
       "      <td>False</td>\n",
       "    </tr>\n",
       "    <tr>\n",
       "      <th>999</th>\n",
       "      <td>False</td>\n",
       "      <td>False</td>\n",
       "      <td>False</td>\n",
       "      <td>False</td>\n",
       "      <td>False</td>\n",
       "      <td>False</td>\n",
       "      <td>False</td>\n",
       "      <td>False</td>\n",
       "      <td>False</td>\n",
       "      <td>False</td>\n",
       "      <td>False</td>\n",
       "      <td>False</td>\n",
       "      <td>False</td>\n",
       "      <td>False</td>\n",
       "      <td>False</td>\n",
       "    </tr>\n",
       "  </tbody>\n",
       "</table>\n",
       "<p>1000 rows × 15 columns</p>\n",
       "</div>"
      ],
      "text/plain": [
       "      Date   Time   Name    Age   City  Salary  Department  Rating  \\\n",
       "0    False  False  False  False  False   False       False   False   \n",
       "1    False  False  False  False  False   False       False   False   \n",
       "2    False  False  False  False  False   False       False   False   \n",
       "3    False  False  False  False  False   False       False   False   \n",
       "4    False  False  False  False  False   False       False   False   \n",
       "..     ...    ...    ...    ...    ...     ...         ...     ...   \n",
       "995  False  False  False  False  False   False       False   False   \n",
       "996  False  False  False  False  False   False       False   False   \n",
       "997  False  False  False  False  False   False       False   False   \n",
       "998  False  False  False  False  False   False       False   False   \n",
       "999  False  False  False  False  False   False       False   False   \n",
       "\n",
       "     Experience (Years)  Gender  Marital Status  Phone Number  Email  \\\n",
       "0                 False   False           False         False  False   \n",
       "1                 False   False           False         False  False   \n",
       "2                 False   False           False         False  False   \n",
       "3                 False   False           False         False  False   \n",
       "4                 False   False           False         False  False   \n",
       "..                  ...     ...             ...           ...    ...   \n",
       "995               False   False           False         False  False   \n",
       "996               False   False           False         False  False   \n",
       "997               False   False           False         False  False   \n",
       "998               False   False           False         False  False   \n",
       "999               False   False           False         False  False   \n",
       "\n",
       "     Product Purchased  Quantity  \n",
       "0                False     False  \n",
       "1                False     False  \n",
       "2                False     False  \n",
       "3                False     False  \n",
       "4                False     False  \n",
       "..                 ...       ...  \n",
       "995              False     False  \n",
       "996              False     False  \n",
       "997              False     False  \n",
       "998              False     False  \n",
       "999              False     False  \n",
       "\n",
       "[1000 rows x 15 columns]"
      ]
     },
     "execution_count": 294,
     "metadata": {},
     "output_type": "execute_result"
    }
   ],
   "source": [
    "\n",
    "df.isna()"
   ]
  },
  {
   "cell_type": "code",
   "execution_count": 295,
   "metadata": {},
   "outputs": [
    {
     "name": "stdout",
     "output_type": "stream",
     "text": [
      "<class 'pandas.core.frame.DataFrame'>\n",
      "RangeIndex: 1000 entries, 0 to 999\n",
      "Data columns (total 15 columns):\n",
      " #   Column              Non-Null Count  Dtype  \n",
      "---  ------              --------------  -----  \n",
      " 0   Date                1000 non-null   object \n",
      " 1   Time                1000 non-null   object \n",
      " 2   Name                1000 non-null   object \n",
      " 3   Age                 1000 non-null   int64  \n",
      " 4   City                1000 non-null   object \n",
      " 5   Salary              1000 non-null   float64\n",
      " 6   Department          1000 non-null   object \n",
      " 7   Rating              1000 non-null   float64\n",
      " 8   Experience (Years)  1000 non-null   int64  \n",
      " 9   Gender              1000 non-null   object \n",
      " 10  Marital Status      1000 non-null   object \n",
      " 11  Phone Number        1000 non-null   object \n",
      " 12  Email               1000 non-null   object \n",
      " 13  Product Purchased   1000 non-null   object \n",
      " 14  Quantity            1000 non-null   int64  \n",
      "dtypes: float64(2), int64(3), object(10)\n",
      "memory usage: 117.3+ KB\n"
     ]
    }
   ],
   "source": [
    "df.info()"
   ]
  },
  {
   "cell_type": "markdown",
   "metadata": {},
   "source": [
    "# PLOTTING BOXPLOT"
   ]
  },
  {
   "cell_type": "code",
   "execution_count": 296,
   "metadata": {},
   "outputs": [
    {
     "data": {
      "image/png": "[encoded data removed]",
      "text/plain": [
       "<Figure size 800x400 with 1 Axes>"
      ]
     },
     "metadata": {},
     "output_type": "display_data"
    },
    {
     "data": {
      "image/png": "[encoded data removed]",
      "text/plain": [
       "<Figure size 800x400 with 1 Axes>"
      ]
     },
     "metadata": {},
     "output_type": "display_data"
    },
    {
     "data": {
      "image/png": "[encoded data removed]",
      "text/plain": [
       "<Figure size 800x400 with 1 Axes>"
      ]
     },
     "metadata": {},
     "output_type": "display_data"
    },
    {
     "data": {
      "image/png": "[encoded data removed]",
      "text/plain": [
       "<Figure size 800x400 with 1 Axes>"
      ]
     },
     "metadata": {},
     "output_type": "display_data"
    },
    {
     "data": {
      "image/png": "[encoded data removed]",
      "text/plain": [
       "<Figure size 800x400 with 1 Axes>"
      ]
     },
     "metadata": {},
     "output_type": "display_data"
    }
   ],
   "source": [
    "# Filter only numeric columns\n",
    "numeric_cols = df.select_dtypes(include=['number']).columns\n",
    "\n",
    "# Plot boxplots for each numeric column\n",
    "for col in numeric_cols:\n",
    "    plt.figure(figsize=(8, 4))  # Set figure size\n",
    "    sns.boxplot(data=df, x=col, color='g')\n",
    "    plt.show()"
   ]
  },
  {
   "cell_type": "markdown",
   "metadata": {},
   "source": [
    "# CLEANING EMPTY CELLS"
   ]
  },
  {
   "cell_type": "code",
   "execution_count": 297,
   "metadata": {},
   "outputs": [
    {
     "name": "stdout",
     "output_type": "stream",
     "text": [
      "None\n"
     ]
    }
   ],
   "source": [
    "new_df=df.dropna(inplace=True)\n",
    "print(new_df)"
   ]
  },
  {
   "cell_type": "markdown",
   "metadata": {},
   "source": [
    "# STATISTICAL ANALYSIS"
   ]
  },
  {
   "cell_type": "markdown",
   "metadata": {},
   "source": [
    "### COVARIANCE"
   ]
  },
  {
   "cell_type": "code",
   "execution_count": 298,
   "metadata": {},
   "outputs": [
    {
     "name": "stdout",
     "output_type": "stream",
     "text": [
      "                            Age        Salary     Rating  Experience (Years)  \\\n",
      "Age                  153.547523 -2.965652e+03  -0.312010            3.765856   \n",
      "Salary             -2965.651527  5.166378e+08 -95.943986        13313.037660   \n",
      "Rating                -0.312010 -9.594399e+01   1.363563           -0.108257   \n",
      "Experience (Years)     3.765856  1.331304e+04  -0.108257          142.237273   \n",
      "Quantity               0.070335 -7.084004e+02   0.017951            0.089095   \n",
      "\n",
      "                      Quantity  \n",
      "Age                   0.070335  \n",
      "Salary             -708.400417  \n",
      "Rating                0.017951  \n",
      "Experience (Years)    0.089095  \n",
      "Quantity              2.073825  \n"
     ]
    }
   ],
   "source": [
    "# cov_matrix=subset.cov()\n",
    "# print(cov_matrix)\n",
    "print(df.cov(numeric_only=True))"
   ]
  },
  {
   "cell_type": "markdown",
   "metadata": {},
   "source": [
    "### CORRELATION\n"
   ]
  },
  {
   "cell_type": "code",
   "execution_count": 299,
   "metadata": {},
   "outputs": [],
   "source": [
    "#cor_matrix=subset.corr()\n",
    "correlation=df.corr(numeric_only=True)"
   ]
  },
  {
   "cell_type": "markdown",
   "metadata": {},
   "source": [
    "### HEATMAP"
   ]
  },
  {
   "cell_type": "code",
   "execution_count": 300,
   "metadata": {},
   "outputs": [
    {
     "data": {
      "text/plain": [
       "<Axes: >"
      ]
     },
     "execution_count": 300,
     "metadata": {},
     "output_type": "execute_result"
    },
    {
     "data": {
      "image/png": "[encoded data removed]",
      "text/plain": [
       "<Figure size 640x480 with 2 Axes>"
      ]
     },
     "metadata": {},
     "output_type": "display_data"
    }
   ],
   "source": [
    "sns.heatmap(correlation,annot=True)"
   ]
  },
  {
   "cell_type": "markdown",
   "metadata": {},
   "source": [
    "### DESCRIBE"
   ]
  },
  {
   "cell_type": "code",
   "execution_count": 301,
   "metadata": {},
   "outputs": [
    {
     "name": "stdout",
     "output_type": "stream",
     "text": [
      "               Age        Salary       Rating  Experience (Years)     Quantity\n",
      "count  1000.000000   1000.000000  1000.000000         1000.000000  1000.000000\n",
      "mean     39.855000  59434.310650     2.934500           19.842000     3.057000\n",
      "std      12.391429  22729.667825     1.167717           11.926327     1.440078\n",
      "min      18.000000  20046.380000     1.000000            0.000000     1.000000\n",
      "25%      29.000000  40088.765000     1.900000            9.000000     2.000000\n",
      "50%      40.000000  59674.830000     2.900000           20.000000     3.000000\n",
      "75%      51.000000  78756.985000     4.000000           30.000000     4.000000\n",
      "max      60.000000  99949.140000     5.000000           40.000000     5.000000\n"
     ]
    }
   ],
   "source": [
    "stats=df.describe()\n",
    "print(stats)"
   ]
  },
  {
   "cell_type": "markdown",
   "metadata": {},
   "source": [
    "### 1. What is the average age of individuals in the dataset?"
   ]
  },
  {
   "cell_type": "code",
   "execution_count": 302,
   "metadata": {},
   "outputs": [
    {
     "name": "stdout",
     "output_type": "stream",
     "text": [
      "The average age of individuals in the dataset is: 39.855\n"
     ]
    }
   ],
   "source": [
    "import pandas as pd\n",
    "df=pd.read_csv(r\"C:\\Users\\LENOVO\\Downloads\\purchase_details.csv\")\n",
    "\n",
    "# Calculate the average age\n",
    "average_age = df['Age'].mean()\n",
    "average_age \n",
    "\n",
    "# Display the result\n",
    "print(f\"The average age of individuals in the dataset is: {average_age}\")"
   ]
  },
  {
   "cell_type": "markdown",
   "metadata": {},
   "source": [
    "### 2. How is the gender distribution across the dataset?"
   ]
  },
  {
   "cell_type": "code",
   "execution_count": 303,
   "metadata": {},
   "outputs": [
    {
     "name": "stdout",
     "output_type": "stream",
     "text": [
      "Gender Distribution:\n",
      "Gender\n",
      "Other     348\n",
      "Male      346\n",
      "Female    306\n",
      "Name: count, dtype: int64\n"
     ]
    }
   ],
   "source": [
    "# Calculate the gender distribution\n",
    "gender_distribution = df['Gender'].value_counts()\n",
    "print(\"Gender Distribution:\")\n",
    "print(gender_distribution)"
   ]
  },
  {
   "cell_type": "markdown",
   "metadata": {},
   "source": [
    "### 3. Which city has the highest representation in the dataset?"
   ]
  },
  {
   "cell_type": "code",
   "execution_count": 304,
   "metadata": {},
   "outputs": [
    {
     "name": "stdout",
     "output_type": "stream",
     "text": [
      "The city with the highest representation is: Hyderabad (206 entries)\n"
     ]
    }
   ],
   "source": [
    "# Find the city with the highest representation\n",
    "city_representation = df['City'].value_counts()\n",
    "highest_city = city_representation.idxmax()\n",
    "highest_count = city_representation.max()\n",
    "\n",
    "print(f\"The city with the highest representation is: {highest_city} ({highest_count} entries)\")"
   ]
  },
  {
   "cell_type": "markdown",
   "metadata": {},
   "source": [
    "### 4. What is the most common marital status in the dataset?"
   ]
  },
  {
   "cell_type": "code",
   "execution_count": 305,
   "metadata": {},
   "outputs": [
    {
     "name": "stdout",
     "output_type": "stream",
     "text": [
      "The most common marital status is: Married (261 occurrences)\n"
     ]
    }
   ],
   "source": [
    "# Find the most common marital status\n",
    "most_common_status = df['Marital Status'].value_counts().idxmax()\n",
    "status_count = df['Marital Status'].value_counts().max()\n",
    "\n",
    "print(f\"The most common marital status is: {most_common_status} ({status_count} occurrences)\")"
   ]
  },
  {
   "cell_type": "markdown",
   "metadata": {},
   "source": [
    "### 5. What is the average salary of individuals, and how does it vary by city?"
   ]
  },
  {
   "cell_type": "code",
   "execution_count": 306,
   "metadata": {},
   "outputs": [
    {
     "name": "stdout",
     "output_type": "stream",
     "text": [
      "The overall average salary is: 59434.31\n",
      "\n",
      "Average salary by city:\n",
      "City\n",
      "Bangalore    59279.260000\n",
      "Chennai      55350.989600\n",
      "Delhi        61814.096683\n",
      "Hyderabad    59220.065922\n",
      "Mumbai       61461.743663\n",
      "Name: Salary, dtype: float64\n"
     ]
    }
   ],
   "source": [
    "# Calculate the overall average salary\n",
    "overall_avg_salary = df['Salary'].mean()\n",
    "\n",
    "# Calculate the average salary by city\n",
    "avg_salary_by_city = df.groupby('City')['Salary'].mean()\n",
    "\n",
    "print(f\"The overall average salary is: {overall_avg_salary:.2f}\\n\")\n",
    "print(\"Average salary by city:\")\n",
    "print(avg_salary_by_city)"
   ]
  },
  {
   "cell_type": "markdown",
   "metadata": {},
   "source": [
    "### 6. Which department has the highest number of employees?"
   ]
  },
  {
   "cell_type": "code",
   "execution_count": 307,
   "metadata": {},
   "outputs": [
    {
     "name": "stdout",
     "output_type": "stream",
     "text": [
      "The department with the highest number of employees is: Sales (211 employees)\n"
     ]
    }
   ],
   "source": [
    "# Find the department with the highest number of employees\n",
    "department_counts = df['Department'].value_counts()\n",
    "highest_department = department_counts.idxmax()\n",
    "highest_count = department_counts.max()\n",
    "\n",
    "print(f\"The department with the highest number of employees is: {highest_department} ({highest_count} employees)\")\n"
   ]
  },
  {
   "cell_type": "markdown",
   "metadata": {},
   "source": [
    "### 7. What is the most frequently purchased product in the dataset?"
   ]
  },
  {
   "cell_type": "code",
   "execution_count": 308,
   "metadata": {},
   "outputs": [
    {
     "name": "stdout",
     "output_type": "stream",
     "text": [
      "The most frequently purchased product is: Laptop (212 purchases)\n"
     ]
    }
   ],
   "source": [
    "# Find the most frequently purchased product\n",
    "most_frequent_product = df['Product Purchased'].value_counts().idxmax()\n",
    "product_count = df['Product Purchased'].value_counts().max()\n",
    "\n",
    "print(f\"The most frequently purchased product is: {most_frequent_product} ({product_count} purchases)\")"
   ]
  },
  {
   "cell_type": "markdown",
   "metadata": {},
   "source": [
    "### 8. How does product purchase vary by city?"
   ]
  },
  {
   "cell_type": "code",
   "execution_count": 309,
   "metadata": {},
   "outputs": [
    {
     "name": "stdout",
     "output_type": "stream",
     "text": [
      "Product purchase distribution by city:\n",
      "City       Product Purchased\n",
      "Bangalore  Laptop               43\n",
      "           Mobile               39\n",
      "           Tablet               39\n",
      "           Headphones           36\n",
      "           Smartwatch           33\n",
      "Chennai    Smartwatch           52\n",
      "           Tablet               41\n",
      "           Laptop               39\n",
      "           Mobile               37\n",
      "           Headphones           31\n",
      "Delhi      Smartwatch           49\n",
      "           Tablet               43\n",
      "           Laptop               42\n",
      "           Mobile               38\n",
      "           Headphones           30\n",
      "Hyderabad  Smartwatch           47\n",
      "           Laptop               44\n",
      "           Mobile               39\n",
      "           Headphones           38\n",
      "           Tablet               38\n",
      "Mumbai     Tablet               49\n",
      "           Headphones           47\n",
      "           Laptop               44\n",
      "           Mobile               32\n",
      "           Smartwatch           30\n",
      "Name: count, dtype: int64\n"
     ]
    }
   ],
   "source": [
    "# Analyze product purchases by city\n",
    "product_purchase_by_city = df.groupby('City')['Product Purchased'].value_counts()\n",
    "\n",
    "print(\"Product purchase distribution by city:\")\n",
    "print(product_purchase_by_city)"
   ]
  },
  {
   "cell_type": "markdown",
   "metadata": {},
   "source": [
    "### 9. What is the average quantity purchased per individual?"
   ]
  },
  {
   "cell_type": "code",
   "execution_count": 310,
   "metadata": {},
   "outputs": [
    {
     "name": "stdout",
     "output_type": "stream",
     "text": [
      "The average quantity purchased per individual is: 3.06\n"
     ]
    }
   ],
   "source": [
    "# Calculate the average quantity purchased per individual\n",
    "average_quantity = df['Quantity'].mean()\n",
    "\n",
    "print(f\"The average quantity purchased per individual is: {average_quantity:.2f}\")"
   ]
  },
  {
   "cell_type": "markdown",
   "metadata": {},
   "source": [
    "### 10. Which demographic group purchases the highest quantity of products?"
   ]
  },
  {
   "cell_type": "code",
   "execution_count": 311,
   "metadata": {},
   "outputs": [
    {
     "name": "stdout",
     "output_type": "stream",
     "text": [
      "Demographic group (Gender) purchasing the highest quantity: Male (1069 products)\n",
      "Demographic group (Marital Status) purchasing the highest quantity: Single (810 products)\n"
     ]
    }
   ],
   "source": [
    "# Analyze quantity purchased by demographic groups\n",
    "# Example 1: By Gender\n",
    "quantity_by_gender = df.groupby('Gender')['Quantity'].sum()\n",
    "highest_gender = quantity_by_gender.idxmax()\n",
    "highest_quantity_gender = quantity_by_gender.max()\n",
    "\n",
    "# Example 2: By Marital Status\n",
    "quantity_by_marital_status = df.groupby('Marital Status')['Quantity'].sum()\n",
    "highest_marital_status = quantity_by_marital_status.idxmax()\n",
    "highest_quantity_status = quantity_by_marital_status.max()\n",
    "\n",
    "# Print results\n",
    "print(f\"Demographic group (Gender) purchasing the highest quantity: {highest_gender} ({highest_quantity_gender} products)\")\n",
    "print(f\"Demographic group (Marital Status) purchasing the highest quantity: {highest_marital_status} ({highest_quantity_status} products)\")"
   ]
  },
  {
   "cell_type": "markdown",
   "metadata": {},
   "source": [
    "### 11. On which dates do the majority of purchases occur?"
   ]
  },
  {
   "cell_type": "code",
   "execution_count": 312,
   "metadata": {},
   "outputs": [
    {
     "name": "stdout",
     "output_type": "stream",
     "text": [
      "The date with the majority of purchases is: 2021-12-09 (4 purchases)\n",
      "\n",
      "Top dates with the most purchases:\n",
      "Date\n",
      "2021-12-09    4\n",
      "2022-03-11    4\n",
      "2020-05-14    4\n",
      "2020-02-18    4\n",
      "2020-05-29    3\n",
      "Name: count, dtype: int64\n"
     ]
    }
   ],
   "source": [
    "# Find the dates with the majority of purchases\n",
    "purchase_counts_by_date = df['Date'].value_counts()\n",
    "most_purchased_date = purchase_counts_by_date.idxmax()\n",
    "highest_purchase_count = purchase_counts_by_date.max()\n",
    "\n",
    "print(f\"The date with the majority of purchases is: {most_purchased_date} ({highest_purchase_count} purchases)\")\n",
    "print(\"\\nTop dates with the most purchases:\")\n",
    "print(purchase_counts_by_date.head(5)) "
   ]
  },
  {
   "cell_type": "markdown",
   "metadata": {},
   "source": [
    "### 12. What is the average length of names in the dataset?"
   ]
  },
  {
   "cell_type": "code",
   "execution_count": 313,
   "metadata": {},
   "outputs": [
    {
     "name": "stdout",
     "output_type": "stream",
     "text": [
      "The average length of names in the dataset is: 7.57 characters\n"
     ]
    }
   ],
   "source": [
    "# Calculate the length of each name\n",
    "df['Name Length'] = df['Name'].apply(len)\n",
    "\n",
    "# Calculate the average length of names\n",
    "average_name_length = df['Name Length'].mean()\n",
    "\n",
    "print(f\"The average length of names in the dataset is: {average_name_length:.2f} characters\")"
   ]
  },
  {
   "cell_type": "markdown",
   "metadata": {},
   "source": [
    "### 13. How many individuals have a unique email domain (e.g., @example.com)?"
   ]
  },
  {
   "cell_type": "code",
   "execution_count": 314,
   "metadata": {},
   "outputs": [
    {
     "name": "stdout",
     "output_type": "stream",
     "text": [
      "The number of unique email domains in the dataset is: 1\n"
     ]
    }
   ],
   "source": [
    "# Extract the email domain from each email\n",
    "df['Email Domain'] = df['Email'].str.split('@').str[1]\n",
    "\n",
    "# Count unique email domains\n",
    "unique_email_domains = df['Email Domain'].nunique()\n",
    "\n",
    "print(f\"The number of unique email domains in the dataset is: {unique_email_domains}\")\n"
   ]
  },
  {
   "cell_type": "markdown",
   "metadata": {},
   "source": [
    "### 14. Is there a pattern between phone number regions and cities?"
   ]
  },
  {
   "cell_type": "code",
   "execution_count": 315,
   "metadata": {},
   "outputs": [
    {
     "name": "stdout",
     "output_type": "stream",
     "text": [
      "Columns in the dataset: Index(['Date', 'Time', 'Name', 'Age', 'City', 'Salary', 'Department', 'Rating',\n",
      "       'Experience (Years)', 'Gender', 'Marital Status', 'Phone Number',\n",
      "       'Email', 'Product Purchased', 'Quantity', 'Name Length',\n",
      "       'Email Domain'],\n",
      "      dtype='object')\n",
      "Columns 'PhoneNumber' or 'Region' not found in the dataset.\n"
     ]
    }
   ],
   "source": [
    "\n",
    "\n",
    "# Check the columns in the dataset\n",
    "print(\"Columns in the dataset:\", df.columns)\n",
    "\n",
    "# Specify the relevant columns (update these based on your dataset)\n",
    "phone_column = \"PhoneNumber\"  # Replace with the actual phone number column name\n",
    "region_column = \"Region\"  # Replace with the actual region or city column name\n",
    "\n",
    "# Extract unique patterns in the phone numbers\n",
    "if phone_column in df.columns and region_column in df.columns:\n",
    "    # Group by phone number prefix (e.g., first 4-5 digits) and region\n",
    "    df['PhonePrefix'] = df[phone_column].astype(str).str[:5]\n",
    "    pattern_summary = df.groupby(['PhonePrefix', region_column]).size().reset_index(name='Count')\n",
    "\n",
    "    # Save or display the pattern summary\n",
    "    output_path = \"/mnt/data/phone_number_patterns.csv\"\n",
    "    pattern_summary.to_csv(output_path, index=False)\n",
    "    print(f\"Pattern analysis saved to {output_path}\")\n",
    "else:\n",
    "    print(f\"Columns '{phone_column}' or '{region_column}' not found in the dataset.\")\n"
   ]
  },
  {
   "cell_type": "markdown",
   "metadata": {},
   "source": [
    "### 15. Are individuals with higher ratings more likely to provide complete contact information?"
   ]
  },
  {
   "cell_type": "code",
   "execution_count": 316,
   "metadata": {},
   "outputs": [
    {
     "name": "stdout",
     "output_type": "stream",
     "text": [
      "Columns in the dataset: Index(['Date', 'Time', 'Name', 'Age', 'City', 'Salary', 'Department', 'Rating',\n",
      "       'Experience (Years)', 'Gender', 'Marital Status', 'Phone Number',\n",
      "       'Email', 'Product Purchased', 'Quantity', 'Name Length',\n",
      "       'Email Domain'],\n",
      "      dtype='object')\n",
      "Missing columns: ['PhoneNumber', 'Address']\n"
     ]
    }
   ],
   "source": [
    "# Check the columns in the dataset\n",
    "print(\"Columns in the dataset:\", df.columns)\n",
    "\n",
    "# Specify column names (update these based on your dataset)\n",
    "rating_column = \"Rating\"  # Replace with the actual rating column name\n",
    "contact_columns = [\"PhoneNumber\", \"Email\", \"Address\"]  # Replace with actual contact information column names\n",
    "\n",
    "# Check if all required columns exist\n",
    "missing_columns = [col for col in [rating_column] + contact_columns if col not in df.columns]\n",
    "if missing_columns:\n",
    "    print(f\"Missing columns: {missing_columns}\")\n",
    "else:\n",
    "    # Define a new column to check for complete contact information\n",
    "    df['CompleteContact'] = df[contact_columns].notnull().all(axis=1)\n",
    "\n",
    "    # Analyze the relationship between rating and complete contact information\n",
    "    summary = df.groupby(rating_column)['CompleteContact'].mean().reset_index()\n",
    "    summary.rename(columns={'CompleteContact': 'PercentCompleteContact'}, inplace=True)\n",
    "\n",
    "    # Save or display the summary\n",
    "    output_path = \"/mnt/data/rating_vs_contact_completeness.csv\"\n",
    "    summary.to_csv(output_path, index=False)\n",
    "    print(f\"Analysis saved to {output_path}\")"
   ]
  },
  {
   "cell_type": "markdown",
   "metadata": {},
   "source": [
    "### SCATTERPLOT"
   ]
  },
  {
   "cell_type": "code",
   "execution_count": 317,
   "metadata": {},
   "outputs": [
    {
     "data": {
      "text/plain": [
       "<Axes: xlabel='Phone Number', ylabel='Rating'>"
      ]
     },
     "execution_count": 317,
     "metadata": {},
     "output_type": "execute_result"
    },
    {
     "data": {
      "image/png": "[encoded data removed]",
      "text/plain": [
       "<Figure size 640x480 with 1 Axes>"
      ]
     },
     "metadata": {},
     "output_type": "display_data"
    }
   ],
   "source": [
    "sns.scatterplot(data=df,x='Phone Number',y='Rating')"
   ]
  },
  {
   "cell_type": "markdown",
   "metadata": {},
   "source": [
    "### HISTOGRAM"
   ]
  },
  {
   "cell_type": "code",
   "execution_count": 318,
   "metadata": {},
   "outputs": [
    {
     "data": {
      "text/plain": [
       "<Axes: xlabel='Salary', ylabel='Count'>"
      ]
     },
     "execution_count": 318,
     "metadata": {},
     "output_type": "execute_result"
    },
    {
     "data": {
      "image/png": "[encoded data removed]",
      "text/plain": [
       "<Figure size 640x480 with 1 Axes>"
      ]
     },
     "metadata": {},
     "output_type": "display_data"
    }
   ],
   "source": [
    "sns.histplot(df['Salary'],bins=30,kde=True)"
   ]
  },
  {
   "cell_type": "code",
   "execution_count": 319,
   "metadata": {},
   "outputs": [
    {
     "data": {
      "text/plain": [
       "Index(['Date', 'Time', 'Name', 'Age', 'City', 'Salary', 'Department', 'Rating',\n",
       "       'Experience (Years)', 'Gender', 'Marital Status', 'Phone Number',\n",
       "       'Email', 'Product Purchased', 'Quantity', 'Name Length',\n",
       "       'Email Domain'],\n",
       "      dtype='object')"
      ]
     },
     "execution_count": 319,
     "metadata": {},
     "output_type": "execute_result"
    }
   ],
   "source": [
    "df.columns"
   ]
  },
  {
   "cell_type": "markdown",
   "metadata": {},
   "source": [
    "### PIE CHART REPRESENTATION"
   ]
  },
  {
   "cell_type": "code",
   "execution_count": 320,
   "metadata": {},
   "outputs": [
    {
     "data": {
      "image/png": "[encoded data removed]",
      "text/plain": [
       "<Figure size 800x800 with 1 Axes>"
      ]
     },
     "metadata": {},
     "output_type": "display_data"
    }
   ],
   "source": [
    "product_distribution = df['Product Purchased'].value_counts()\n",
    "\n",
    "# Plot the pie chart\n",
    "plt.figure(figsize=(8, 8))\n",
    "plt.pie(product_distribution, labels=product_distribution.index, autopct='%1.1f%%', startangle=140)\n",
    "plt.title('Product Distribution')\n",
    "plt.show()\n"
   ]
  },
  {
   "cell_type": "markdown",
   "metadata": {},
   "source": [
    "# CONCLUSION"
   ]
  },
  {
   "cell_type": "markdown",
   "metadata": {},
   "source": [
    "### The dataset provides detailed information about customer transactions, including demographic details (age, gender, city, marital status), professional attributes (salary, department, years of experience), and purchase behaviors (product purchased, quantity, rating). With no missing data, it offers a robust basis for analysis. The data spans 1,000 records and covers multiple cities, indicating diverse customer demographics. Products like laptops, mobiles, and tablets are among the purchased items, which can reveal sales trends. Additionally, salary and experience can provide insights into the financial capacity of customers and their professional profiles. Ratings may reflect customer satisfaction, offering opportunities for quality improvement. Overall, the dataset is well-structured for exploring consumer behavior, identifying market trends, and uncovering relationships between customer characteristics and purchasing decisions."
   ]
  }
 ],
 "metadata": {
  "kernelspec": {
   "display_name": "Python 3",
   "language": "python",
   "name": "python3"
  },
  "language_info": {
   "codemirror_mode": {
    "name": "ipython",
    "version": 3
   },
   "file_extension": ".py",
   "mimetype": "text/x-python",
   "name": "python",
   "nbconvert_exporter": "python",
   "pygments_lexer": "ipython3",
   "version": "3.10.11"
  }
 },
 "nbformat": 4,
 "nbformat_minor": 2
}
